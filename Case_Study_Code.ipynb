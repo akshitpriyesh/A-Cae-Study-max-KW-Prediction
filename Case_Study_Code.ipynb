{
 "cells": [
  {
   "cell_type": "code",
   "execution_count": 1,
   "metadata": {},
   "outputs": [],
   "source": [
    "import matplotlib.pyplot as plt\n",
    "import pandas as pd\n",
    "import numpy as np\n",
    "from sklearn import linear_model\n"
   ]
  },
  {
   "cell_type": "code",
   "execution_count": null,
   "metadata": {},
   "outputs": [],
   "source": [
    "import tensorflow as tf"
   ]
  },
  {
   "cell_type": "code",
   "execution_count": 3,
   "metadata": {},
   "outputs": [
    {
     "data": {
      "text/html": [
       "<div>\n",
       "<style scoped>\n",
       "    .dataframe tbody tr th:only-of-type {\n",
       "        vertical-align: middle;\n",
       "    }\n",
       "\n",
       "    .dataframe tbody tr th {\n",
       "        vertical-align: top;\n",
       "    }\n",
       "\n",
       "    .dataframe thead th {\n",
       "        text-align: right;\n",
       "    }\n",
       "</style>\n",
       "<table border=\"1\" class=\"dataframe\">\n",
       "  <thead>\n",
       "    <tr style=\"text-align: right;\">\n",
       "      <th></th>\n",
       "      <th>Row Labels</th>\n",
       "      <th>Hour</th>\n",
       "      <th>Date-Hour</th>\n",
       "      <th>Month</th>\n",
       "      <th>Year</th>\n",
       "      <th>Sum/Win</th>\n",
       "      <th>WeekNumber</th>\n",
       "      <th>Weeday</th>\n",
       "      <th>Prior Period Temp C</th>\n",
       "      <th>Avg Temp C</th>\n",
       "      <th>...</th>\n",
       "      <th>Dew C</th>\n",
       "      <th>Humidity</th>\n",
       "      <th>Visibility (km)</th>\n",
       "      <th>Wind Dir</th>\n",
       "      <th>Wind Speed (km/h)</th>\n",
       "      <th>Gust Speed (km/h)</th>\n",
       "      <th>Precip (mm)</th>\n",
       "      <th>Events</th>\n",
       "      <th>Conditions</th>\n",
       "      <th>Max kW</th>\n",
       "    </tr>\n",
       "  </thead>\n",
       "  <tbody>\n",
       "    <tr>\n",
       "      <th>0</th>\n",
       "      <td>1/5/2014</td>\n",
       "      <td>0</td>\n",
       "      <td>5/1/2014-0</td>\n",
       "      <td>5</td>\n",
       "      <td>2014</td>\n",
       "      <td>1</td>\n",
       "      <td>18</td>\n",
       "      <td>4</td>\n",
       "      <td>6</td>\n",
       "      <td>6</td>\n",
       "      <td>...</td>\n",
       "      <td>6</td>\n",
       "      <td>97.0</td>\n",
       "      <td>16.1</td>\n",
       "      <td>West</td>\n",
       "      <td>14.8</td>\n",
       "      <td>NaN</td>\n",
       "      <td>NaN</td>\n",
       "      <td>NaN</td>\n",
       "      <td>Overcast</td>\n",
       "      <td>35</td>\n",
       "    </tr>\n",
       "    <tr>\n",
       "      <th>1</th>\n",
       "      <td>1/5/2014</td>\n",
       "      <td>1</td>\n",
       "      <td>5/1/2014-1</td>\n",
       "      <td>5</td>\n",
       "      <td>2014</td>\n",
       "      <td>1</td>\n",
       "      <td>18</td>\n",
       "      <td>4</td>\n",
       "      <td>6</td>\n",
       "      <td>6</td>\n",
       "      <td>...</td>\n",
       "      <td>6</td>\n",
       "      <td>100.0</td>\n",
       "      <td>16.1</td>\n",
       "      <td>WSW</td>\n",
       "      <td>14.8</td>\n",
       "      <td>NaN</td>\n",
       "      <td>NaN</td>\n",
       "      <td>NaN</td>\n",
       "      <td>Overcast</td>\n",
       "      <td>35</td>\n",
       "    </tr>\n",
       "    <tr>\n",
       "      <th>2</th>\n",
       "      <td>1/5/2014</td>\n",
       "      <td>2</td>\n",
       "      <td>5/1/2014-2</td>\n",
       "      <td>5</td>\n",
       "      <td>2014</td>\n",
       "      <td>1</td>\n",
       "      <td>18</td>\n",
       "      <td>4</td>\n",
       "      <td>6</td>\n",
       "      <td>6</td>\n",
       "      <td>...</td>\n",
       "      <td>6</td>\n",
       "      <td>98.0</td>\n",
       "      <td>16.1</td>\n",
       "      <td>WSW</td>\n",
       "      <td>13</td>\n",
       "      <td>NaN</td>\n",
       "      <td>NaN</td>\n",
       "      <td>NaN</td>\n",
       "      <td>Overcast</td>\n",
       "      <td>35</td>\n",
       "    </tr>\n",
       "    <tr>\n",
       "      <th>3</th>\n",
       "      <td>1/5/2014</td>\n",
       "      <td>3</td>\n",
       "      <td>5/1/2014-3</td>\n",
       "      <td>5</td>\n",
       "      <td>2014</td>\n",
       "      <td>1</td>\n",
       "      <td>18</td>\n",
       "      <td>4</td>\n",
       "      <td>7</td>\n",
       "      <td>6</td>\n",
       "      <td>...</td>\n",
       "      <td>6</td>\n",
       "      <td>100.0</td>\n",
       "      <td>16.1</td>\n",
       "      <td>WSW</td>\n",
       "      <td>14.8</td>\n",
       "      <td>25.9</td>\n",
       "      <td>NaN</td>\n",
       "      <td>NaN</td>\n",
       "      <td>Light Drizzle</td>\n",
       "      <td>36</td>\n",
       "    </tr>\n",
       "    <tr>\n",
       "      <th>4</th>\n",
       "      <td>1/5/2014</td>\n",
       "      <td>4</td>\n",
       "      <td>5/1/2014-4</td>\n",
       "      <td>5</td>\n",
       "      <td>2014</td>\n",
       "      <td>1</td>\n",
       "      <td>18</td>\n",
       "      <td>4</td>\n",
       "      <td>6</td>\n",
       "      <td>6</td>\n",
       "      <td>...</td>\n",
       "      <td>6</td>\n",
       "      <td>100.0</td>\n",
       "      <td>16.1</td>\n",
       "      <td>West</td>\n",
       "      <td>14.8</td>\n",
       "      <td>NaN</td>\n",
       "      <td>NaN</td>\n",
       "      <td>NaN</td>\n",
       "      <td>Overcast</td>\n",
       "      <td>63</td>\n",
       "    </tr>\n",
       "  </tbody>\n",
       "</table>\n",
       "<p>5 rows × 23 columns</p>\n",
       "</div>"
      ],
      "text/plain": [
       "  Row Labels  Hour   Date-Hour  Month  Year  Sum/Win  WeekNumber  Weeday  \\\n",
       "0   1/5/2014     0  5/1/2014-0      5  2014        1          18       4   \n",
       "1   1/5/2014     1  5/1/2014-1      5  2014        1          18       4   \n",
       "2   1/5/2014     2  5/1/2014-2      5  2014        1          18       4   \n",
       "3   1/5/2014     3  5/1/2014-3      5  2014        1          18       4   \n",
       "4   1/5/2014     4  5/1/2014-4      5  2014        1          18       4   \n",
       "\n",
       "   Prior Period Temp C  Avg Temp C  ...  Dew C  Humidity  Visibility (km)  \\\n",
       "0                    6           6  ...      6      97.0             16.1   \n",
       "1                    6           6  ...      6     100.0             16.1   \n",
       "2                    6           6  ...      6      98.0             16.1   \n",
       "3                    7           6  ...      6     100.0             16.1   \n",
       "4                    6           6  ...      6     100.0             16.1   \n",
       "\n",
       "   Wind Dir  Wind Speed (km/h)  Gust Speed (km/h) Precip (mm) Events  \\\n",
       "0      West               14.8                NaN         NaN    NaN   \n",
       "1       WSW               14.8                NaN         NaN    NaN   \n",
       "2       WSW                 13                NaN         NaN    NaN   \n",
       "3       WSW               14.8               25.9         NaN    NaN   \n",
       "4      West               14.8                NaN         NaN    NaN   \n",
       "\n",
       "      Conditions  Max kW  \n",
       "0       Overcast      35  \n",
       "1       Overcast      35  \n",
       "2       Overcast      35  \n",
       "3  Light Drizzle      36  \n",
       "4       Overcast      63  \n",
       "\n",
       "[5 rows x 23 columns]"
      ]
     },
     "execution_count": 3,
     "metadata": {},
     "output_type": "execute_result"
    }
   ],
   "source": [
    "df= pd.read_csv(r\"C:\\Users\\axe\\JupyterNotebooks\\datasets\\Model_Data.csv\")\n",
    "df.head()"
   ]
  },
  {
   "cell_type": "code",
   "execution_count": 4,
   "metadata": {},
   "outputs": [
    {
     "name": "stdout",
     "output_type": "stream",
     "text": [
      "Row Labels\n",
      "Hour\n",
      "Date-Hour\n",
      "Month\n",
      "Year\n",
      "Sum/Win\n",
      "WeekNumber\n",
      "Weeday\n",
      "Prior Period Temp C\n",
      "Avg Temp C\n",
      "Winter HDD (51 Base)\n",
      "Summer CDD (51 Base)\n",
      "Max Temp C\n",
      "Dew C\n",
      "Humidity\n",
      "Visibility (km)\n",
      "Wind Dir\n",
      "Wind Speed (km/h)\n",
      "Gust Speed (km/h)\n",
      "Precip (mm)\n",
      "Events\n",
      "Conditions\n",
      "Max kW\n"
     ]
    }
   ],
   "source": [
    "for col in df.columns: \n",
    "    print(col)"
   ]
  },
  {
   "cell_type": "code",
   "execution_count": 58,
   "metadata": {},
   "outputs": [
    {
     "name": "stdout",
     "output_type": "stream",
     "text": [
      "<class 'pandas.core.frame.DataFrame'>\n",
      "RangeIndex: 8215 entries, 0 to 8214\n",
      "Data columns (total 23 columns):\n",
      " #   Column                Non-Null Count  Dtype  \n",
      "---  ------                --------------  -----  \n",
      " 0   Row Labels            8215 non-null   object \n",
      " 1   Hour                  8215 non-null   int64  \n",
      " 2   Date-Hour             8215 non-null   object \n",
      " 3   Month                 8215 non-null   int64  \n",
      " 4   Year                  8215 non-null   int64  \n",
      " 5   Sum/Win               8215 non-null   int64  \n",
      " 6   WeekNumber            8215 non-null   int64  \n",
      " 7   Weeday                8215 non-null   int64  \n",
      " 8   Prior Period Temp C   8215 non-null   int64  \n",
      " 9   Avg Temp C            8215 non-null   int64  \n",
      " 10  Winter HDD (51 Base)  8215 non-null   float64\n",
      " 11  Summer CDD (51 Base)  8215 non-null   float64\n",
      " 12  Max Temp C            8215 non-null   int64  \n",
      " 13  Dew C                 8215 non-null   int64  \n",
      " 14  Humidity              8215 non-null   float64\n",
      " 15  Visibility (km)       8215 non-null   float64\n",
      " 16  Wind Dir              8215 non-null   object \n",
      " 17  Wind Speed (km/h)     8215 non-null   object \n",
      " 18  Gust Speed (km/h)     1547 non-null   float64\n",
      " 19  Precip (mm)           149 non-null    float64\n",
      " 20  Events                449 non-null    object \n",
      " 21  Conditions            8215 non-null   object \n",
      " 22  Max kW                8215 non-null   int64  \n",
      "dtypes: float64(6), int64(11), object(6)\n",
      "memory usage: 1.4+ MB\n"
     ]
    }
   ],
   "source": [
    "df.info()"
   ]
  },
  {
   "cell_type": "code",
   "execution_count": 5,
   "metadata": {},
   "outputs": [
    {
     "data": {
      "text/plain": [
       "True"
      ]
     },
     "execution_count": 5,
     "metadata": {},
     "output_type": "execute_result"
    }
   ],
   "source": [
    "df.isnull().values.any()"
   ]
  },
  {
   "cell_type": "code",
   "execution_count": 6,
   "metadata": {},
   "outputs": [
    {
     "data": {
      "text/plain": [
       "22505"
      ]
     },
     "execution_count": 6,
     "metadata": {},
     "output_type": "execute_result"
    }
   ],
   "source": [
    "df.isnull().sum().sum()"
   ]
  },
  {
   "cell_type": "code",
   "execution_count": 8,
   "metadata": {},
   "outputs": [
    {
     "data": {
      "text/plain": [
       "False"
      ]
     },
     "execution_count": 8,
     "metadata": {},
     "output_type": "execute_result"
    }
   ],
   "source": [
    "df['Hour'].isnull().values.any()"
   ]
  },
  {
   "cell_type": "code",
   "execution_count": 9,
   "metadata": {},
   "outputs": [
    {
     "data": {
      "text/plain": [
       "False"
      ]
     },
     "execution_count": 9,
     "metadata": {},
     "output_type": "execute_result"
    }
   ],
   "source": [
    "df['Date-Hour'].isnull().values.any()"
   ]
  },
  {
   "cell_type": "code",
   "execution_count": 11,
   "metadata": {},
   "outputs": [
    {
     "data": {
      "text/plain": [
       "False"
      ]
     },
     "execution_count": 11,
     "metadata": {},
     "output_type": "execute_result"
    }
   ],
   "source": [
    "df['Month'].isnull().values.any()"
   ]
  },
  {
   "cell_type": "code",
   "execution_count": 12,
   "metadata": {},
   "outputs": [
    {
     "data": {
      "text/plain": [
       "False"
      ]
     },
     "execution_count": 12,
     "metadata": {},
     "output_type": "execute_result"
    }
   ],
   "source": [
    "df['Year'].isnull().values.any()"
   ]
  },
  {
   "cell_type": "code",
   "execution_count": 13,
   "metadata": {},
   "outputs": [
    {
     "data": {
      "text/plain": [
       "False"
      ]
     },
     "execution_count": 13,
     "metadata": {},
     "output_type": "execute_result"
    }
   ],
   "source": [
    "df['Sum/Win'].isnull().values.any()"
   ]
  },
  {
   "cell_type": "code",
   "execution_count": 14,
   "metadata": {},
   "outputs": [
    {
     "data": {
      "text/plain": [
       "False"
      ]
     },
     "execution_count": 14,
     "metadata": {},
     "output_type": "execute_result"
    }
   ],
   "source": [
    "df['Month'].isnull().values.any()"
   ]
  },
  {
   "cell_type": "code",
   "execution_count": 16,
   "metadata": {},
   "outputs": [
    {
     "data": {
      "text/plain": [
       "False"
      ]
     },
     "execution_count": 16,
     "metadata": {},
     "output_type": "execute_result"
    }
   ],
   "source": [
    "df['Prior Period Temp C'].isnull().values.any()"
   ]
  },
  {
   "cell_type": "code",
   "execution_count": 17,
   "metadata": {},
   "outputs": [
    {
     "data": {
      "text/plain": [
       "False"
      ]
     },
     "execution_count": 17,
     "metadata": {},
     "output_type": "execute_result"
    }
   ],
   "source": [
    "df['Avg Temp C'].isnull().values.any()"
   ]
  },
  {
   "cell_type": "code",
   "execution_count": 18,
   "metadata": {},
   "outputs": [
    {
     "data": {
      "text/plain": [
       "False"
      ]
     },
     "execution_count": 18,
     "metadata": {},
     "output_type": "execute_result"
    }
   ],
   "source": [
    "df['Winter HDD (51 Base)'].isnull().values.any()"
   ]
  },
  {
   "cell_type": "code",
   "execution_count": 19,
   "metadata": {},
   "outputs": [
    {
     "data": {
      "text/plain": [
       "False"
      ]
     },
     "execution_count": 19,
     "metadata": {},
     "output_type": "execute_result"
    }
   ],
   "source": [
    "df['Summer CDD (51 Base)'].isnull().values.any()"
   ]
  },
  {
   "cell_type": "code",
   "execution_count": 20,
   "metadata": {},
   "outputs": [
    {
     "data": {
      "text/plain": [
       "False"
      ]
     },
     "execution_count": 20,
     "metadata": {},
     "output_type": "execute_result"
    }
   ],
   "source": [
    "df['Max Temp C'].isnull().values.any()"
   ]
  },
  {
   "cell_type": "code",
   "execution_count": 21,
   "metadata": {},
   "outputs": [
    {
     "data": {
      "text/plain": [
       "False"
      ]
     },
     "execution_count": 21,
     "metadata": {},
     "output_type": "execute_result"
    }
   ],
   "source": [
    "df['Dew C'].isnull().values.any()"
   ]
  },
  {
   "cell_type": "code",
   "execution_count": 25,
   "metadata": {},
   "outputs": [
    {
     "data": {
      "text/plain": [
       "True"
      ]
     },
     "execution_count": 25,
     "metadata": {},
     "output_type": "execute_result"
    }
   ],
   "source": [
    "df['Humidity'].isnull().values.any()"
   ]
  },
  {
   "cell_type": "markdown",
   "metadata": {},
   "source": [
    "Humidity has Null Values."
   ]
  },
  {
   "cell_type": "code",
   "execution_count": 23,
   "metadata": {},
   "outputs": [
    {
     "data": {
      "text/plain": [
       "2"
      ]
     },
     "execution_count": 23,
     "metadata": {},
     "output_type": "execute_result"
    }
   ],
   "source": [
    "df['Humidity'].isnull().sum()"
   ]
  },
  {
   "cell_type": "markdown",
   "metadata": {},
   "source": [
    "# Humidity has 2 Null Values."
   ]
  },
  {
   "cell_type": "code",
   "execution_count": 24,
   "metadata": {},
   "outputs": [
    {
     "data": {
      "text/plain": [
       "True"
      ]
     },
     "execution_count": 24,
     "metadata": {},
     "output_type": "execute_result"
    }
   ],
   "source": [
    "df['Visibility (km)'].isnull().values.any()"
   ]
  },
  {
   "cell_type": "code",
   "execution_count": 26,
   "metadata": {},
   "outputs": [
    {
     "data": {
      "text/plain": [
       "2"
      ]
     },
     "execution_count": 26,
     "metadata": {},
     "output_type": "execute_result"
    }
   ],
   "source": [
    "df['Visibility (km)'].isnull().sum()"
   ]
  },
  {
   "cell_type": "markdown",
   "metadata": {},
   "source": [
    "# Visibility (km) has 2 Null Values."
   ]
  },
  {
   "cell_type": "code",
   "execution_count": 27,
   "metadata": {},
   "outputs": [
    {
     "data": {
      "text/plain": [
       "False"
      ]
     },
     "execution_count": 27,
     "metadata": {},
     "output_type": "execute_result"
    }
   ],
   "source": [
    "df['Wind Dir'].isnull().values.any()"
   ]
  },
  {
   "cell_type": "code",
   "execution_count": 28,
   "metadata": {},
   "outputs": [
    {
     "data": {
      "text/plain": [
       "True"
      ]
     },
     "execution_count": 28,
     "metadata": {},
     "output_type": "execute_result"
    }
   ],
   "source": [
    "df['Wind Speed (km/h)'].isnull().values.any()"
   ]
  },
  {
   "cell_type": "code",
   "execution_count": 30,
   "metadata": {},
   "outputs": [
    {
     "data": {
      "text/plain": [
       "1"
      ]
     },
     "execution_count": 30,
     "metadata": {},
     "output_type": "execute_result"
    }
   ],
   "source": [
    "df['Wind Speed (km/h)'].isnull().sum()"
   ]
  },
  {
   "cell_type": "markdown",
   "metadata": {},
   "source": [
    "# Wind Speed (km/h) has 1 Null Values."
   ]
  },
  {
   "cell_type": "code",
   "execution_count": 31,
   "metadata": {},
   "outputs": [
    {
     "data": {
      "text/plain": [
       "True"
      ]
     },
     "execution_count": 31,
     "metadata": {},
     "output_type": "execute_result"
    }
   ],
   "source": [
    "df['Gust Speed (km/h)'].isnull().values.any()"
   ]
  },
  {
   "cell_type": "code",
   "execution_count": 32,
   "metadata": {},
   "outputs": [
    {
     "data": {
      "text/plain": [
       "6668"
      ]
     },
     "execution_count": 32,
     "metadata": {},
     "output_type": "execute_result"
    }
   ],
   "source": [
    "df['Gust Speed (km/h)'].isnull().sum()"
   ]
  },
  {
   "cell_type": "markdown",
   "metadata": {},
   "source": [
    "# Gust Speed (km/h) has 6668 Null Values."
   ]
  },
  {
   "cell_type": "code",
   "execution_count": 33,
   "metadata": {},
   "outputs": [
    {
     "data": {
      "text/plain": [
       "True"
      ]
     },
     "execution_count": 33,
     "metadata": {},
     "output_type": "execute_result"
    }
   ],
   "source": [
    "df['Precip (mm)'].isnull().values.any()"
   ]
  },
  {
   "cell_type": "code",
   "execution_count": 36,
   "metadata": {},
   "outputs": [
    {
     "data": {
      "text/plain": [
       "8066"
      ]
     },
     "execution_count": 36,
     "metadata": {},
     "output_type": "execute_result"
    }
   ],
   "source": [
    "df['Precip (mm)'].isnull().sum()"
   ]
  },
  {
   "cell_type": "markdown",
   "metadata": {},
   "source": [
    "# Precip (mm) has 8066 Null Values."
   ]
  },
  {
   "cell_type": "code",
   "execution_count": 37,
   "metadata": {},
   "outputs": [
    {
     "data": {
      "text/plain": [
       "True"
      ]
     },
     "execution_count": 37,
     "metadata": {},
     "output_type": "execute_result"
    }
   ],
   "source": [
    "df['Events'].isnull().values.any()"
   ]
  },
  {
   "cell_type": "code",
   "execution_count": 38,
   "metadata": {},
   "outputs": [
    {
     "data": {
      "text/plain": [
       "7766"
      ]
     },
     "execution_count": 38,
     "metadata": {},
     "output_type": "execute_result"
    }
   ],
   "source": [
    "df['Events'].isnull().sum()"
   ]
  },
  {
   "cell_type": "markdown",
   "metadata": {},
   "source": [
    "# Events has 7766 Null Values."
   ]
  },
  {
   "cell_type": "code",
   "execution_count": 39,
   "metadata": {},
   "outputs": [
    {
     "data": {
      "text/plain": [
       "False"
      ]
     },
     "execution_count": 39,
     "metadata": {},
     "output_type": "execute_result"
    }
   ],
   "source": [
    "df['Conditions'].isnull().values.any()"
   ]
  },
  {
   "cell_type": "code",
   "execution_count": 40,
   "metadata": {},
   "outputs": [
    {
     "data": {
      "text/plain": [
       "False"
      ]
     },
     "execution_count": 40,
     "metadata": {},
     "output_type": "execute_result"
    }
   ],
   "source": [
    "df['Max kW'].isnull().values.any()"
   ]
  },
  {
   "cell_type": "code",
   "execution_count": 35,
   "metadata": {},
   "outputs": [
    {
     "data": {
      "text/html": [
       "<div>\n",
       "<style scoped>\n",
       "    .dataframe tbody tr th:only-of-type {\n",
       "        vertical-align: middle;\n",
       "    }\n",
       "\n",
       "    .dataframe tbody tr th {\n",
       "        vertical-align: top;\n",
       "    }\n",
       "\n",
       "    .dataframe thead th {\n",
       "        text-align: right;\n",
       "    }\n",
       "</style>\n",
       "<table border=\"1\" class=\"dataframe\">\n",
       "  <thead>\n",
       "    <tr style=\"text-align: right;\">\n",
       "      <th></th>\n",
       "      <th>Hour</th>\n",
       "      <th>Month</th>\n",
       "      <th>Year</th>\n",
       "      <th>Sum/Win</th>\n",
       "      <th>WeekNumber</th>\n",
       "      <th>Weeday</th>\n",
       "      <th>Prior Period Temp C</th>\n",
       "      <th>Avg Temp C</th>\n",
       "      <th>Winter HDD (51 Base)</th>\n",
       "      <th>Summer CDD (51 Base)</th>\n",
       "      <th>Max Temp C</th>\n",
       "      <th>Dew C</th>\n",
       "      <th>Humidity</th>\n",
       "      <th>Visibility (km)</th>\n",
       "      <th>Gust Speed (km/h)</th>\n",
       "      <th>Precip (mm)</th>\n",
       "      <th>Max kW</th>\n",
       "    </tr>\n",
       "  </thead>\n",
       "  <tbody>\n",
       "    <tr>\n",
       "      <th>count</th>\n",
       "      <td>8215.000000</td>\n",
       "      <td>8215.000000</td>\n",
       "      <td>8215.000000</td>\n",
       "      <td>8215.000000</td>\n",
       "      <td>8215.000000</td>\n",
       "      <td>8215.000000</td>\n",
       "      <td>8215.000000</td>\n",
       "      <td>8215.000000</td>\n",
       "      <td>8215.000000</td>\n",
       "      <td>8215.000000</td>\n",
       "      <td>8215.000000</td>\n",
       "      <td>8215.000000</td>\n",
       "      <td>8213.000000</td>\n",
       "      <td>8213.000000</td>\n",
       "      <td>1547.000000</td>\n",
       "      <td>149.000000</td>\n",
       "      <td>8215.000000</td>\n",
       "    </tr>\n",
       "    <tr>\n",
       "      <th>mean</th>\n",
       "      <td>11.499330</td>\n",
       "      <td>6.404260</td>\n",
       "      <td>2014.350213</td>\n",
       "      <td>0.472185</td>\n",
       "      <td>26.371516</td>\n",
       "      <td>3.999391</td>\n",
       "      <td>10.104808</td>\n",
       "      <td>10.104565</td>\n",
       "      <td>0.386488</td>\n",
       "      <td>0.356372</td>\n",
       "      <td>10.406695</td>\n",
       "      <td>4.949970</td>\n",
       "      <td>73.386948</td>\n",
       "      <td>14.598332</td>\n",
       "      <td>35.177893</td>\n",
       "      <td>1.366443</td>\n",
       "      <td>176.888010</td>\n",
       "    </tr>\n",
       "    <tr>\n",
       "      <th>std</th>\n",
       "      <td>6.917157</td>\n",
       "      <td>3.521067</td>\n",
       "      <td>0.477066</td>\n",
       "      <td>0.499256</td>\n",
       "      <td>15.326915</td>\n",
       "      <td>1.997045</td>\n",
       "      <td>11.764928</td>\n",
       "      <td>11.765975</td>\n",
       "      <td>0.551775</td>\n",
       "      <td>0.445714</td>\n",
       "      <td>11.802326</td>\n",
       "      <td>11.361463</td>\n",
       "      <td>18.582560</td>\n",
       "      <td>3.719409</td>\n",
       "      <td>7.929274</td>\n",
       "      <td>1.897317</td>\n",
       "      <td>108.824429</td>\n",
       "    </tr>\n",
       "    <tr>\n",
       "      <th>min</th>\n",
       "      <td>0.000000</td>\n",
       "      <td>1.000000</td>\n",
       "      <td>2014.000000</td>\n",
       "      <td>0.000000</td>\n",
       "      <td>1.000000</td>\n",
       "      <td>1.000000</td>\n",
       "      <td>-23.000000</td>\n",
       "      <td>-23.000000</td>\n",
       "      <td>0.000000</td>\n",
       "      <td>0.000000</td>\n",
       "      <td>-23.000000</td>\n",
       "      <td>-26.000000</td>\n",
       "      <td>20.000000</td>\n",
       "      <td>0.400000</td>\n",
       "      <td>14.800000</td>\n",
       "      <td>0.300000</td>\n",
       "      <td>32.000000</td>\n",
       "    </tr>\n",
       "    <tr>\n",
       "      <th>25%</th>\n",
       "      <td>6.000000</td>\n",
       "      <td>3.000000</td>\n",
       "      <td>2014.000000</td>\n",
       "      <td>0.000000</td>\n",
       "      <td>13.000000</td>\n",
       "      <td>2.000000</td>\n",
       "      <td>1.000000</td>\n",
       "      <td>1.000000</td>\n",
       "      <td>0.000000</td>\n",
       "      <td>0.000000</td>\n",
       "      <td>1.000000</td>\n",
       "      <td>-3.000000</td>\n",
       "      <td>61.000000</td>\n",
       "      <td>16.100000</td>\n",
       "      <td>29.600000</td>\n",
       "      <td>0.300000</td>\n",
       "      <td>70.000000</td>\n",
       "    </tr>\n",
       "    <tr>\n",
       "      <th>50%</th>\n",
       "      <td>12.000000</td>\n",
       "      <td>6.000000</td>\n",
       "      <td>2014.000000</td>\n",
       "      <td>0.000000</td>\n",
       "      <td>25.000000</td>\n",
       "      <td>4.000000</td>\n",
       "      <td>11.000000</td>\n",
       "      <td>11.000000</td>\n",
       "      <td>0.000000</td>\n",
       "      <td>0.100000</td>\n",
       "      <td>12.000000</td>\n",
       "      <td>5.000000</td>\n",
       "      <td>76.000000</td>\n",
       "      <td>16.100000</td>\n",
       "      <td>33.300000</td>\n",
       "      <td>0.500000</td>\n",
       "      <td>192.000000</td>\n",
       "    </tr>\n",
       "    <tr>\n",
       "      <th>75%</th>\n",
       "      <td>17.000000</td>\n",
       "      <td>10.000000</td>\n",
       "      <td>2015.000000</td>\n",
       "      <td>1.000000</td>\n",
       "      <td>41.000000</td>\n",
       "      <td>6.000000</td>\n",
       "      <td>20.000000</td>\n",
       "      <td>20.000000</td>\n",
       "      <td>0.700000</td>\n",
       "      <td>0.700000</td>\n",
       "      <td>20.000000</td>\n",
       "      <td>15.000000</td>\n",
       "      <td>88.000000</td>\n",
       "      <td>16.100000</td>\n",
       "      <td>38.900000</td>\n",
       "      <td>1.500000</td>\n",
       "      <td>247.000000</td>\n",
       "    </tr>\n",
       "    <tr>\n",
       "      <th>max</th>\n",
       "      <td>23.000000</td>\n",
       "      <td>12.000000</td>\n",
       "      <td>2015.000000</td>\n",
       "      <td>1.000000</td>\n",
       "      <td>53.000000</td>\n",
       "      <td>7.000000</td>\n",
       "      <td>33.000000</td>\n",
       "      <td>33.000000</td>\n",
       "      <td>2.500000</td>\n",
       "      <td>1.700000</td>\n",
       "      <td>33.000000</td>\n",
       "      <td>27.000000</td>\n",
       "      <td>100.000000</td>\n",
       "      <td>16.100000</td>\n",
       "      <td>72.200000</td>\n",
       "      <td>10.200000</td>\n",
       "      <td>446.000000</td>\n",
       "    </tr>\n",
       "  </tbody>\n",
       "</table>\n",
       "</div>"
      ],
      "text/plain": [
       "              Hour        Month         Year      Sum/Win   WeekNumber  \\\n",
       "count  8215.000000  8215.000000  8215.000000  8215.000000  8215.000000   \n",
       "mean     11.499330     6.404260  2014.350213     0.472185    26.371516   \n",
       "std       6.917157     3.521067     0.477066     0.499256    15.326915   \n",
       "min       0.000000     1.000000  2014.000000     0.000000     1.000000   \n",
       "25%       6.000000     3.000000  2014.000000     0.000000    13.000000   \n",
       "50%      12.000000     6.000000  2014.000000     0.000000    25.000000   \n",
       "75%      17.000000    10.000000  2015.000000     1.000000    41.000000   \n",
       "max      23.000000    12.000000  2015.000000     1.000000    53.000000   \n",
       "\n",
       "            Weeday  Prior Period Temp C   Avg Temp C  Winter HDD (51 Base)  \\\n",
       "count  8215.000000          8215.000000  8215.000000           8215.000000   \n",
       "mean      3.999391            10.104808    10.104565              0.386488   \n",
       "std       1.997045            11.764928    11.765975              0.551775   \n",
       "min       1.000000           -23.000000   -23.000000              0.000000   \n",
       "25%       2.000000             1.000000     1.000000              0.000000   \n",
       "50%       4.000000            11.000000    11.000000              0.000000   \n",
       "75%       6.000000            20.000000    20.000000              0.700000   \n",
       "max       7.000000            33.000000    33.000000              2.500000   \n",
       "\n",
       "       Summer CDD (51 Base)   Max Temp C        Dew C     Humidity  \\\n",
       "count           8215.000000  8215.000000  8215.000000  8213.000000   \n",
       "mean               0.356372    10.406695     4.949970    73.386948   \n",
       "std                0.445714    11.802326    11.361463    18.582560   \n",
       "min                0.000000   -23.000000   -26.000000    20.000000   \n",
       "25%                0.000000     1.000000    -3.000000    61.000000   \n",
       "50%                0.100000    12.000000     5.000000    76.000000   \n",
       "75%                0.700000    20.000000    15.000000    88.000000   \n",
       "max                1.700000    33.000000    27.000000   100.000000   \n",
       "\n",
       "       Visibility (km)  Gust Speed (km/h)  Precip (mm)       Max kW  \n",
       "count      8213.000000        1547.000000   149.000000  8215.000000  \n",
       "mean         14.598332          35.177893     1.366443   176.888010  \n",
       "std           3.719409           7.929274     1.897317   108.824429  \n",
       "min           0.400000          14.800000     0.300000    32.000000  \n",
       "25%          16.100000          29.600000     0.300000    70.000000  \n",
       "50%          16.100000          33.300000     0.500000   192.000000  \n",
       "75%          16.100000          38.900000     1.500000   247.000000  \n",
       "max          16.100000          72.200000    10.200000   446.000000  "
      ]
     },
     "execution_count": 35,
     "metadata": {},
     "output_type": "execute_result"
    }
   ],
   "source": [
    "df.describe()"
   ]
  },
  {
   "cell_type": "code",
   "execution_count": 41,
   "metadata": {},
   "outputs": [
    {
     "data": {
      "text/plain": [
       "Row Labels               object\n",
       "Hour                      int64\n",
       "Date-Hour                object\n",
       "Month                     int64\n",
       "Year                      int64\n",
       "Sum/Win                   int64\n",
       "WeekNumber                int64\n",
       "Weeday                    int64\n",
       "Prior Period Temp C       int64\n",
       "Avg Temp C                int64\n",
       "Winter HDD (51 Base)    float64\n",
       "Summer CDD (51 Base)    float64\n",
       "Max Temp C                int64\n",
       "Dew C                     int64\n",
       "Humidity                float64\n",
       "Visibility (km)         float64\n",
       "Wind Dir                 object\n",
       "Wind Speed (km/h)        object\n",
       "Gust Speed (km/h)       float64\n",
       "Precip (mm)             float64\n",
       "Events                   object\n",
       "Conditions               object\n",
       "Max kW                    int64\n",
       "dtype: object"
      ]
     },
     "execution_count": 41,
     "metadata": {},
     "output_type": "execute_result"
    }
   ],
   "source": [
    "df.dtypes"
   ]
  },
  {
   "cell_type": "code",
   "execution_count": 42,
   "metadata": {},
   "outputs": [
    {
     "data": {
      "text/html": [
       "<div>\n",
       "<style scoped>\n",
       "    .dataframe tbody tr th:only-of-type {\n",
       "        vertical-align: middle;\n",
       "    }\n",
       "\n",
       "    .dataframe tbody tr th {\n",
       "        vertical-align: top;\n",
       "    }\n",
       "\n",
       "    .dataframe thead th {\n",
       "        text-align: right;\n",
       "    }\n",
       "</style>\n",
       "<table border=\"1\" class=\"dataframe\">\n",
       "  <thead>\n",
       "    <tr style=\"text-align: right;\">\n",
       "      <th></th>\n",
       "      <th>Row Labels</th>\n",
       "      <th>Hour</th>\n",
       "      <th>Date-Hour</th>\n",
       "      <th>Month</th>\n",
       "      <th>Year</th>\n",
       "      <th>Sum/Win</th>\n",
       "      <th>WeekNumber</th>\n",
       "      <th>Weeday</th>\n",
       "      <th>Prior Period Temp C</th>\n",
       "      <th>Avg Temp C</th>\n",
       "      <th>...</th>\n",
       "      <th>Dew C</th>\n",
       "      <th>Humidity</th>\n",
       "      <th>Visibility (km)</th>\n",
       "      <th>Wind Dir</th>\n",
       "      <th>Wind Speed (km/h)</th>\n",
       "      <th>Gust Speed (km/h)</th>\n",
       "      <th>Precip (mm)</th>\n",
       "      <th>Events</th>\n",
       "      <th>Conditions</th>\n",
       "      <th>Max kW</th>\n",
       "    </tr>\n",
       "  </thead>\n",
       "  <tbody>\n",
       "    <tr>\n",
       "      <th>0</th>\n",
       "      <td>1/5/2014</td>\n",
       "      <td>0</td>\n",
       "      <td>5/1/2014-0</td>\n",
       "      <td>5</td>\n",
       "      <td>2014</td>\n",
       "      <td>1</td>\n",
       "      <td>18</td>\n",
       "      <td>4</td>\n",
       "      <td>6</td>\n",
       "      <td>6</td>\n",
       "      <td>...</td>\n",
       "      <td>6</td>\n",
       "      <td>97.0</td>\n",
       "      <td>16.1</td>\n",
       "      <td>West</td>\n",
       "      <td>14.8</td>\n",
       "      <td>35.177893</td>\n",
       "      <td>1.366443</td>\n",
       "      <td>NaN</td>\n",
       "      <td>Overcast</td>\n",
       "      <td>35</td>\n",
       "    </tr>\n",
       "    <tr>\n",
       "      <th>1</th>\n",
       "      <td>1/5/2014</td>\n",
       "      <td>1</td>\n",
       "      <td>5/1/2014-1</td>\n",
       "      <td>5</td>\n",
       "      <td>2014</td>\n",
       "      <td>1</td>\n",
       "      <td>18</td>\n",
       "      <td>4</td>\n",
       "      <td>6</td>\n",
       "      <td>6</td>\n",
       "      <td>...</td>\n",
       "      <td>6</td>\n",
       "      <td>100.0</td>\n",
       "      <td>16.1</td>\n",
       "      <td>WSW</td>\n",
       "      <td>14.8</td>\n",
       "      <td>35.177893</td>\n",
       "      <td>1.366443</td>\n",
       "      <td>NaN</td>\n",
       "      <td>Overcast</td>\n",
       "      <td>35</td>\n",
       "    </tr>\n",
       "    <tr>\n",
       "      <th>2</th>\n",
       "      <td>1/5/2014</td>\n",
       "      <td>2</td>\n",
       "      <td>5/1/2014-2</td>\n",
       "      <td>5</td>\n",
       "      <td>2014</td>\n",
       "      <td>1</td>\n",
       "      <td>18</td>\n",
       "      <td>4</td>\n",
       "      <td>6</td>\n",
       "      <td>6</td>\n",
       "      <td>...</td>\n",
       "      <td>6</td>\n",
       "      <td>98.0</td>\n",
       "      <td>16.1</td>\n",
       "      <td>WSW</td>\n",
       "      <td>13</td>\n",
       "      <td>35.177893</td>\n",
       "      <td>1.366443</td>\n",
       "      <td>NaN</td>\n",
       "      <td>Overcast</td>\n",
       "      <td>35</td>\n",
       "    </tr>\n",
       "    <tr>\n",
       "      <th>3</th>\n",
       "      <td>1/5/2014</td>\n",
       "      <td>3</td>\n",
       "      <td>5/1/2014-3</td>\n",
       "      <td>5</td>\n",
       "      <td>2014</td>\n",
       "      <td>1</td>\n",
       "      <td>18</td>\n",
       "      <td>4</td>\n",
       "      <td>7</td>\n",
       "      <td>6</td>\n",
       "      <td>...</td>\n",
       "      <td>6</td>\n",
       "      <td>100.0</td>\n",
       "      <td>16.1</td>\n",
       "      <td>WSW</td>\n",
       "      <td>14.8</td>\n",
       "      <td>25.900000</td>\n",
       "      <td>1.366443</td>\n",
       "      <td>NaN</td>\n",
       "      <td>Light Drizzle</td>\n",
       "      <td>36</td>\n",
       "    </tr>\n",
       "    <tr>\n",
       "      <th>4</th>\n",
       "      <td>1/5/2014</td>\n",
       "      <td>4</td>\n",
       "      <td>5/1/2014-4</td>\n",
       "      <td>5</td>\n",
       "      <td>2014</td>\n",
       "      <td>1</td>\n",
       "      <td>18</td>\n",
       "      <td>4</td>\n",
       "      <td>6</td>\n",
       "      <td>6</td>\n",
       "      <td>...</td>\n",
       "      <td>6</td>\n",
       "      <td>100.0</td>\n",
       "      <td>16.1</td>\n",
       "      <td>West</td>\n",
       "      <td>14.8</td>\n",
       "      <td>35.177893</td>\n",
       "      <td>1.366443</td>\n",
       "      <td>NaN</td>\n",
       "      <td>Overcast</td>\n",
       "      <td>63</td>\n",
       "    </tr>\n",
       "    <tr>\n",
       "      <th>...</th>\n",
       "      <td>...</td>\n",
       "      <td>...</td>\n",
       "      <td>...</td>\n",
       "      <td>...</td>\n",
       "      <td>...</td>\n",
       "      <td>...</td>\n",
       "      <td>...</td>\n",
       "      <td>...</td>\n",
       "      <td>...</td>\n",
       "      <td>...</td>\n",
       "      <td>...</td>\n",
       "      <td>...</td>\n",
       "      <td>...</td>\n",
       "      <td>...</td>\n",
       "      <td>...</td>\n",
       "      <td>...</td>\n",
       "      <td>...</td>\n",
       "      <td>...</td>\n",
       "      <td>...</td>\n",
       "      <td>...</td>\n",
       "      <td>...</td>\n",
       "    </tr>\n",
       "    <tr>\n",
       "      <th>8210</th>\n",
       "      <td>30/4/2015</td>\n",
       "      <td>19</td>\n",
       "      <td>4/30/2015-19</td>\n",
       "      <td>4</td>\n",
       "      <td>2015</td>\n",
       "      <td>0</td>\n",
       "      <td>18</td>\n",
       "      <td>4</td>\n",
       "      <td>17</td>\n",
       "      <td>16</td>\n",
       "      <td>...</td>\n",
       "      <td>0</td>\n",
       "      <td>35.0</td>\n",
       "      <td>16.1</td>\n",
       "      <td>NNE</td>\n",
       "      <td>11.1</td>\n",
       "      <td>35.177893</td>\n",
       "      <td>1.366443</td>\n",
       "      <td>NaN</td>\n",
       "      <td>Clear</td>\n",
       "      <td>292</td>\n",
       "    </tr>\n",
       "    <tr>\n",
       "      <th>8211</th>\n",
       "      <td>30/4/2015</td>\n",
       "      <td>20</td>\n",
       "      <td>4/30/2015-20</td>\n",
       "      <td>4</td>\n",
       "      <td>2015</td>\n",
       "      <td>0</td>\n",
       "      <td>18</td>\n",
       "      <td>4</td>\n",
       "      <td>14</td>\n",
       "      <td>14</td>\n",
       "      <td>...</td>\n",
       "      <td>1</td>\n",
       "      <td>42.0</td>\n",
       "      <td>16.1</td>\n",
       "      <td>NE</td>\n",
       "      <td>5.6</td>\n",
       "      <td>35.177893</td>\n",
       "      <td>1.366443</td>\n",
       "      <td>NaN</td>\n",
       "      <td>Clear</td>\n",
       "      <td>289</td>\n",
       "    </tr>\n",
       "    <tr>\n",
       "      <th>8212</th>\n",
       "      <td>30/4/2015</td>\n",
       "      <td>21</td>\n",
       "      <td>4/30/2015-21</td>\n",
       "      <td>4</td>\n",
       "      <td>2015</td>\n",
       "      <td>0</td>\n",
       "      <td>18</td>\n",
       "      <td>4</td>\n",
       "      <td>12</td>\n",
       "      <td>12</td>\n",
       "      <td>...</td>\n",
       "      <td>1</td>\n",
       "      <td>47.0</td>\n",
       "      <td>16.1</td>\n",
       "      <td>ENE</td>\n",
       "      <td>9.3</td>\n",
       "      <td>35.177893</td>\n",
       "      <td>1.366443</td>\n",
       "      <td>NaN</td>\n",
       "      <td>Clear</td>\n",
       "      <td>97</td>\n",
       "    </tr>\n",
       "    <tr>\n",
       "      <th>8213</th>\n",
       "      <td>30/4/2015</td>\n",
       "      <td>22</td>\n",
       "      <td>4/30/2015-22</td>\n",
       "      <td>4</td>\n",
       "      <td>2015</td>\n",
       "      <td>0</td>\n",
       "      <td>18</td>\n",
       "      <td>4</td>\n",
       "      <td>12</td>\n",
       "      <td>11</td>\n",
       "      <td>...</td>\n",
       "      <td>1</td>\n",
       "      <td>49.0</td>\n",
       "      <td>16.1</td>\n",
       "      <td>East</td>\n",
       "      <td>7.4</td>\n",
       "      <td>35.177893</td>\n",
       "      <td>1.366443</td>\n",
       "      <td>NaN</td>\n",
       "      <td>Clear</td>\n",
       "      <td>36</td>\n",
       "    </tr>\n",
       "    <tr>\n",
       "      <th>8214</th>\n",
       "      <td>30/4/2015</td>\n",
       "      <td>23</td>\n",
       "      <td>4/30/2015-23</td>\n",
       "      <td>4</td>\n",
       "      <td>2015</td>\n",
       "      <td>0</td>\n",
       "      <td>18</td>\n",
       "      <td>4</td>\n",
       "      <td>11</td>\n",
       "      <td>10</td>\n",
       "      <td>...</td>\n",
       "      <td>1</td>\n",
       "      <td>55.0</td>\n",
       "      <td>16.1</td>\n",
       "      <td>Calm</td>\n",
       "      <td>Calm</td>\n",
       "      <td>35.177893</td>\n",
       "      <td>1.366443</td>\n",
       "      <td>NaN</td>\n",
       "      <td>Clear</td>\n",
       "      <td>36</td>\n",
       "    </tr>\n",
       "  </tbody>\n",
       "</table>\n",
       "<p>8215 rows × 23 columns</p>\n",
       "</div>"
      ],
      "text/plain": [
       "     Row Labels  Hour     Date-Hour  Month  Year  Sum/Win  WeekNumber  Weeday  \\\n",
       "0      1/5/2014     0    5/1/2014-0      5  2014        1          18       4   \n",
       "1      1/5/2014     1    5/1/2014-1      5  2014        1          18       4   \n",
       "2      1/5/2014     2    5/1/2014-2      5  2014        1          18       4   \n",
       "3      1/5/2014     3    5/1/2014-3      5  2014        1          18       4   \n",
       "4      1/5/2014     4    5/1/2014-4      5  2014        1          18       4   \n",
       "...         ...   ...           ...    ...   ...      ...         ...     ...   \n",
       "8210  30/4/2015    19  4/30/2015-19      4  2015        0          18       4   \n",
       "8211  30/4/2015    20  4/30/2015-20      4  2015        0          18       4   \n",
       "8212  30/4/2015    21  4/30/2015-21      4  2015        0          18       4   \n",
       "8213  30/4/2015    22  4/30/2015-22      4  2015        0          18       4   \n",
       "8214  30/4/2015    23  4/30/2015-23      4  2015        0          18       4   \n",
       "\n",
       "      Prior Period Temp C  Avg Temp C  ...  Dew C  Humidity  Visibility (km)  \\\n",
       "0                       6           6  ...      6      97.0             16.1   \n",
       "1                       6           6  ...      6     100.0             16.1   \n",
       "2                       6           6  ...      6      98.0             16.1   \n",
       "3                       7           6  ...      6     100.0             16.1   \n",
       "4                       6           6  ...      6     100.0             16.1   \n",
       "...                   ...         ...  ...    ...       ...              ...   \n",
       "8210                   17          16  ...      0      35.0             16.1   \n",
       "8211                   14          14  ...      1      42.0             16.1   \n",
       "8212                   12          12  ...      1      47.0             16.1   \n",
       "8213                   12          11  ...      1      49.0             16.1   \n",
       "8214                   11          10  ...      1      55.0             16.1   \n",
       "\n",
       "      Wind Dir  Wind Speed (km/h)  Gust Speed (km/h) Precip (mm) Events  \\\n",
       "0         West               14.8          35.177893    1.366443    NaN   \n",
       "1          WSW               14.8          35.177893    1.366443    NaN   \n",
       "2          WSW                 13          35.177893    1.366443    NaN   \n",
       "3          WSW               14.8          25.900000    1.366443    NaN   \n",
       "4         West               14.8          35.177893    1.366443    NaN   \n",
       "...        ...                ...                ...         ...    ...   \n",
       "8210       NNE               11.1          35.177893    1.366443    NaN   \n",
       "8211        NE                5.6          35.177893    1.366443    NaN   \n",
       "8212       ENE                9.3          35.177893    1.366443    NaN   \n",
       "8213      East                7.4          35.177893    1.366443    NaN   \n",
       "8214      Calm               Calm          35.177893    1.366443    NaN   \n",
       "\n",
       "         Conditions  Max kW  \n",
       "0          Overcast      35  \n",
       "1          Overcast      35  \n",
       "2          Overcast      35  \n",
       "3     Light Drizzle      36  \n",
       "4          Overcast      63  \n",
       "...             ...     ...  \n",
       "8210          Clear     292  \n",
       "8211          Clear     289  \n",
       "8212          Clear      97  \n",
       "8213          Clear      36  \n",
       "8214          Clear      36  \n",
       "\n",
       "[8215 rows x 23 columns]"
      ]
     },
     "execution_count": 42,
     "metadata": {},
     "output_type": "execute_result"
    }
   ],
   "source": [
    "df.fillna(df.mean())"
   ]
  },
  {
   "cell_type": "code",
   "execution_count": 45,
   "metadata": {},
   "outputs": [],
   "source": [
    "df['Humidity'].fillna((df['Humidity'].mean()), inplace=True)"
   ]
  },
  {
   "cell_type": "code",
   "execution_count": 47,
   "metadata": {},
   "outputs": [
    {
     "data": {
      "text/plain": [
       "False"
      ]
     },
     "execution_count": 47,
     "metadata": {},
     "output_type": "execute_result"
    }
   ],
   "source": [
    "df['Humidity'].isnull().values.any()"
   ]
  },
  {
   "cell_type": "code",
   "execution_count": 48,
   "metadata": {},
   "outputs": [],
   "source": [
    "df['Visibility (km)'].fillna((df['Humidity'].mean()), inplace=True)"
   ]
  },
  {
   "cell_type": "code",
   "execution_count": 50,
   "metadata": {},
   "outputs": [
    {
     "data": {
      "text/plain": [
       "False"
      ]
     },
     "execution_count": 50,
     "metadata": {},
     "output_type": "execute_result"
    }
   ],
   "source": [
    "df['Visibility (km)'].isnull().values.any()"
   ]
  },
  {
   "cell_type": "code",
   "execution_count": 49,
   "metadata": {},
   "outputs": [],
   "source": [
    "df['Wind Speed (km/h)'].fillna((df['Humidity'].mean()), inplace=True)"
   ]
  },
  {
   "cell_type": "code",
   "execution_count": 51,
   "metadata": {},
   "outputs": [
    {
     "name": "stdout",
     "output_type": "stream",
     "text": [
      "<class 'pandas.core.frame.DataFrame'>\n",
      "RangeIndex: 8215 entries, 0 to 8214\n",
      "Data columns (total 23 columns):\n",
      " #   Column                Non-Null Count  Dtype  \n",
      "---  ------                --------------  -----  \n",
      " 0   Row Labels            8215 non-null   object \n",
      " 1   Hour                  8215 non-null   int64  \n",
      " 2   Date-Hour             8215 non-null   object \n",
      " 3   Month                 8215 non-null   int64  \n",
      " 4   Year                  8215 non-null   int64  \n",
      " 5   Sum/Win               8215 non-null   int64  \n",
      " 6   WeekNumber            8215 non-null   int64  \n",
      " 7   Weeday                8215 non-null   int64  \n",
      " 8   Prior Period Temp C   8215 non-null   int64  \n",
      " 9   Avg Temp C            8215 non-null   int64  \n",
      " 10  Winter HDD (51 Base)  8215 non-null   float64\n",
      " 11  Summer CDD (51 Base)  8215 non-null   float64\n",
      " 12  Max Temp C            8215 non-null   int64  \n",
      " 13  Dew C                 8215 non-null   int64  \n",
      " 14  Humidity              8215 non-null   float64\n",
      " 15  Visibility (km)       8215 non-null   float64\n",
      " 16  Wind Dir              8215 non-null   object \n",
      " 17  Wind Speed (km/h)     8215 non-null   object \n",
      " 18  Gust Speed (km/h)     1547 non-null   float64\n",
      " 19  Precip (mm)           149 non-null    float64\n",
      " 20  Events                449 non-null    object \n",
      " 21  Conditions            8215 non-null   object \n",
      " 22  Max kW                8215 non-null   int64  \n",
      "dtypes: float64(6), int64(11), object(6)\n",
      "memory usage: 1.4+ MB\n"
     ]
    }
   ],
   "source": [
    "df.info()"
   ]
  },
  {
   "cell_type": "code",
   "execution_count": 52,
   "metadata": {},
   "outputs": [
    {
     "name": "stdout",
     "output_type": "stream",
     "text": [
      "Shape of the data: (8215, 23) --> n_rows = 8215, n_cols = 23\n"
     ]
    }
   ],
   "source": [
    "## Return a tuple representing the dimensionality of the DataFrame.\n",
    "print(\"Shape of the data: {} --> n_rows = {}, n_cols = {}\".format(df.shape, df.shape[0],df.shape[1]))"
   ]
  },
  {
   "cell_type": "code",
   "execution_count": 53,
   "metadata": {},
   "outputs": [
    {
     "data": {
      "text/html": [
       "<div>\n",
       "<style scoped>\n",
       "    .dataframe tbody tr th:only-of-type {\n",
       "        vertical-align: middle;\n",
       "    }\n",
       "\n",
       "    .dataframe tbody tr th {\n",
       "        vertical-align: top;\n",
       "    }\n",
       "\n",
       "    .dataframe thead th {\n",
       "        text-align: right;\n",
       "    }\n",
       "</style>\n",
       "<table border=\"1\" class=\"dataframe\">\n",
       "  <thead>\n",
       "    <tr style=\"text-align: right;\">\n",
       "      <th></th>\n",
       "      <th>Row Labels</th>\n",
       "      <th>Hour</th>\n",
       "      <th>Date-Hour</th>\n",
       "      <th>Month</th>\n",
       "      <th>Year</th>\n",
       "      <th>Sum/Win</th>\n",
       "      <th>WeekNumber</th>\n",
       "      <th>Weeday</th>\n",
       "      <th>Prior Period Temp C</th>\n",
       "      <th>Avg Temp C</th>\n",
       "      <th>...</th>\n",
       "      <th>Dew C</th>\n",
       "      <th>Humidity</th>\n",
       "      <th>Visibility (km)</th>\n",
       "      <th>Wind Dir</th>\n",
       "      <th>Wind Speed (km/h)</th>\n",
       "      <th>Gust Speed (km/h)</th>\n",
       "      <th>Precip (mm)</th>\n",
       "      <th>Events</th>\n",
       "      <th>Conditions</th>\n",
       "      <th>Max kW</th>\n",
       "    </tr>\n",
       "  </thead>\n",
       "  <tbody>\n",
       "    <tr>\n",
       "      <th>8205</th>\n",
       "      <td>30/4/2015</td>\n",
       "      <td>14</td>\n",
       "      <td>4/30/2015-14</td>\n",
       "      <td>4</td>\n",
       "      <td>2015</td>\n",
       "      <td>0</td>\n",
       "      <td>18</td>\n",
       "      <td>4</td>\n",
       "      <td>18</td>\n",
       "      <td>18</td>\n",
       "      <td>...</td>\n",
       "      <td>1</td>\n",
       "      <td>31.0</td>\n",
       "      <td>16.1</td>\n",
       "      <td>North</td>\n",
       "      <td>29.6</td>\n",
       "      <td>35.2</td>\n",
       "      <td>NaN</td>\n",
       "      <td>NaN</td>\n",
       "      <td>Clear</td>\n",
       "      <td>356</td>\n",
       "    </tr>\n",
       "    <tr>\n",
       "      <th>8206</th>\n",
       "      <td>30/4/2015</td>\n",
       "      <td>15</td>\n",
       "      <td>4/30/2015-15</td>\n",
       "      <td>4</td>\n",
       "      <td>2015</td>\n",
       "      <td>0</td>\n",
       "      <td>18</td>\n",
       "      <td>4</td>\n",
       "      <td>19</td>\n",
       "      <td>19</td>\n",
       "      <td>...</td>\n",
       "      <td>0</td>\n",
       "      <td>29.0</td>\n",
       "      <td>16.1</td>\n",
       "      <td>NNE</td>\n",
       "      <td>22.2</td>\n",
       "      <td>35.2</td>\n",
       "      <td>NaN</td>\n",
       "      <td>NaN</td>\n",
       "      <td>Clear</td>\n",
       "      <td>337</td>\n",
       "    </tr>\n",
       "    <tr>\n",
       "      <th>8207</th>\n",
       "      <td>30/4/2015</td>\n",
       "      <td>16</td>\n",
       "      <td>4/30/2015-16</td>\n",
       "      <td>4</td>\n",
       "      <td>2015</td>\n",
       "      <td>0</td>\n",
       "      <td>18</td>\n",
       "      <td>4</td>\n",
       "      <td>19</td>\n",
       "      <td>19</td>\n",
       "      <td>...</td>\n",
       "      <td>1</td>\n",
       "      <td>31.0</td>\n",
       "      <td>16.1</td>\n",
       "      <td>NNE</td>\n",
       "      <td>13</td>\n",
       "      <td>29.6</td>\n",
       "      <td>NaN</td>\n",
       "      <td>NaN</td>\n",
       "      <td>Clear</td>\n",
       "      <td>332</td>\n",
       "    </tr>\n",
       "    <tr>\n",
       "      <th>8208</th>\n",
       "      <td>30/4/2015</td>\n",
       "      <td>17</td>\n",
       "      <td>4/30/2015-17</td>\n",
       "      <td>4</td>\n",
       "      <td>2015</td>\n",
       "      <td>0</td>\n",
       "      <td>18</td>\n",
       "      <td>4</td>\n",
       "      <td>19</td>\n",
       "      <td>19</td>\n",
       "      <td>...</td>\n",
       "      <td>1</td>\n",
       "      <td>31.0</td>\n",
       "      <td>16.1</td>\n",
       "      <td>NE</td>\n",
       "      <td>22.2</td>\n",
       "      <td>27.8</td>\n",
       "      <td>NaN</td>\n",
       "      <td>NaN</td>\n",
       "      <td>Clear</td>\n",
       "      <td>305</td>\n",
       "    </tr>\n",
       "    <tr>\n",
       "      <th>8209</th>\n",
       "      <td>30/4/2015</td>\n",
       "      <td>18</td>\n",
       "      <td>4/30/2015-18</td>\n",
       "      <td>4</td>\n",
       "      <td>2015</td>\n",
       "      <td>0</td>\n",
       "      <td>18</td>\n",
       "      <td>4</td>\n",
       "      <td>18</td>\n",
       "      <td>18</td>\n",
       "      <td>...</td>\n",
       "      <td>0</td>\n",
       "      <td>30.0</td>\n",
       "      <td>16.1</td>\n",
       "      <td>NE</td>\n",
       "      <td>14.8</td>\n",
       "      <td>NaN</td>\n",
       "      <td>NaN</td>\n",
       "      <td>NaN</td>\n",
       "      <td>Clear</td>\n",
       "      <td>294</td>\n",
       "    </tr>\n",
       "    <tr>\n",
       "      <th>8210</th>\n",
       "      <td>30/4/2015</td>\n",
       "      <td>19</td>\n",
       "      <td>4/30/2015-19</td>\n",
       "      <td>4</td>\n",
       "      <td>2015</td>\n",
       "      <td>0</td>\n",
       "      <td>18</td>\n",
       "      <td>4</td>\n",
       "      <td>17</td>\n",
       "      <td>16</td>\n",
       "      <td>...</td>\n",
       "      <td>0</td>\n",
       "      <td>35.0</td>\n",
       "      <td>16.1</td>\n",
       "      <td>NNE</td>\n",
       "      <td>11.1</td>\n",
       "      <td>NaN</td>\n",
       "      <td>NaN</td>\n",
       "      <td>NaN</td>\n",
       "      <td>Clear</td>\n",
       "      <td>292</td>\n",
       "    </tr>\n",
       "    <tr>\n",
       "      <th>8211</th>\n",
       "      <td>30/4/2015</td>\n",
       "      <td>20</td>\n",
       "      <td>4/30/2015-20</td>\n",
       "      <td>4</td>\n",
       "      <td>2015</td>\n",
       "      <td>0</td>\n",
       "      <td>18</td>\n",
       "      <td>4</td>\n",
       "      <td>14</td>\n",
       "      <td>14</td>\n",
       "      <td>...</td>\n",
       "      <td>1</td>\n",
       "      <td>42.0</td>\n",
       "      <td>16.1</td>\n",
       "      <td>NE</td>\n",
       "      <td>5.6</td>\n",
       "      <td>NaN</td>\n",
       "      <td>NaN</td>\n",
       "      <td>NaN</td>\n",
       "      <td>Clear</td>\n",
       "      <td>289</td>\n",
       "    </tr>\n",
       "    <tr>\n",
       "      <th>8212</th>\n",
       "      <td>30/4/2015</td>\n",
       "      <td>21</td>\n",
       "      <td>4/30/2015-21</td>\n",
       "      <td>4</td>\n",
       "      <td>2015</td>\n",
       "      <td>0</td>\n",
       "      <td>18</td>\n",
       "      <td>4</td>\n",
       "      <td>12</td>\n",
       "      <td>12</td>\n",
       "      <td>...</td>\n",
       "      <td>1</td>\n",
       "      <td>47.0</td>\n",
       "      <td>16.1</td>\n",
       "      <td>ENE</td>\n",
       "      <td>9.3</td>\n",
       "      <td>NaN</td>\n",
       "      <td>NaN</td>\n",
       "      <td>NaN</td>\n",
       "      <td>Clear</td>\n",
       "      <td>97</td>\n",
       "    </tr>\n",
       "    <tr>\n",
       "      <th>8213</th>\n",
       "      <td>30/4/2015</td>\n",
       "      <td>22</td>\n",
       "      <td>4/30/2015-22</td>\n",
       "      <td>4</td>\n",
       "      <td>2015</td>\n",
       "      <td>0</td>\n",
       "      <td>18</td>\n",
       "      <td>4</td>\n",
       "      <td>12</td>\n",
       "      <td>11</td>\n",
       "      <td>...</td>\n",
       "      <td>1</td>\n",
       "      <td>49.0</td>\n",
       "      <td>16.1</td>\n",
       "      <td>East</td>\n",
       "      <td>7.4</td>\n",
       "      <td>NaN</td>\n",
       "      <td>NaN</td>\n",
       "      <td>NaN</td>\n",
       "      <td>Clear</td>\n",
       "      <td>36</td>\n",
       "    </tr>\n",
       "    <tr>\n",
       "      <th>8214</th>\n",
       "      <td>30/4/2015</td>\n",
       "      <td>23</td>\n",
       "      <td>4/30/2015-23</td>\n",
       "      <td>4</td>\n",
       "      <td>2015</td>\n",
       "      <td>0</td>\n",
       "      <td>18</td>\n",
       "      <td>4</td>\n",
       "      <td>11</td>\n",
       "      <td>10</td>\n",
       "      <td>...</td>\n",
       "      <td>1</td>\n",
       "      <td>55.0</td>\n",
       "      <td>16.1</td>\n",
       "      <td>Calm</td>\n",
       "      <td>Calm</td>\n",
       "      <td>NaN</td>\n",
       "      <td>NaN</td>\n",
       "      <td>NaN</td>\n",
       "      <td>Clear</td>\n",
       "      <td>36</td>\n",
       "    </tr>\n",
       "  </tbody>\n",
       "</table>\n",
       "<p>10 rows × 23 columns</p>\n",
       "</div>"
      ],
      "text/plain": [
       "     Row Labels  Hour     Date-Hour  Month  Year  Sum/Win  WeekNumber  Weeday  \\\n",
       "8205  30/4/2015    14  4/30/2015-14      4  2015        0          18       4   \n",
       "8206  30/4/2015    15  4/30/2015-15      4  2015        0          18       4   \n",
       "8207  30/4/2015    16  4/30/2015-16      4  2015        0          18       4   \n",
       "8208  30/4/2015    17  4/30/2015-17      4  2015        0          18       4   \n",
       "8209  30/4/2015    18  4/30/2015-18      4  2015        0          18       4   \n",
       "8210  30/4/2015    19  4/30/2015-19      4  2015        0          18       4   \n",
       "8211  30/4/2015    20  4/30/2015-20      4  2015        0          18       4   \n",
       "8212  30/4/2015    21  4/30/2015-21      4  2015        0          18       4   \n",
       "8213  30/4/2015    22  4/30/2015-22      4  2015        0          18       4   \n",
       "8214  30/4/2015    23  4/30/2015-23      4  2015        0          18       4   \n",
       "\n",
       "      Prior Period Temp C  Avg Temp C  ...  Dew C  Humidity  Visibility (km)  \\\n",
       "8205                   18          18  ...      1      31.0             16.1   \n",
       "8206                   19          19  ...      0      29.0             16.1   \n",
       "8207                   19          19  ...      1      31.0             16.1   \n",
       "8208                   19          19  ...      1      31.0             16.1   \n",
       "8209                   18          18  ...      0      30.0             16.1   \n",
       "8210                   17          16  ...      0      35.0             16.1   \n",
       "8211                   14          14  ...      1      42.0             16.1   \n",
       "8212                   12          12  ...      1      47.0             16.1   \n",
       "8213                   12          11  ...      1      49.0             16.1   \n",
       "8214                   11          10  ...      1      55.0             16.1   \n",
       "\n",
       "      Wind Dir  Wind Speed (km/h)  Gust Speed (km/h) Precip (mm) Events  \\\n",
       "8205     North               29.6               35.2         NaN    NaN   \n",
       "8206       NNE               22.2               35.2         NaN    NaN   \n",
       "8207       NNE                 13               29.6         NaN    NaN   \n",
       "8208        NE               22.2               27.8         NaN    NaN   \n",
       "8209        NE               14.8                NaN         NaN    NaN   \n",
       "8210       NNE               11.1                NaN         NaN    NaN   \n",
       "8211        NE                5.6                NaN         NaN    NaN   \n",
       "8212       ENE                9.3                NaN         NaN    NaN   \n",
       "8213      East                7.4                NaN         NaN    NaN   \n",
       "8214      Calm               Calm                NaN         NaN    NaN   \n",
       "\n",
       "      Conditions  Max kW  \n",
       "8205       Clear     356  \n",
       "8206       Clear     337  \n",
       "8207       Clear     332  \n",
       "8208       Clear     305  \n",
       "8209       Clear     294  \n",
       "8210       Clear     292  \n",
       "8211       Clear     289  \n",
       "8212       Clear      97  \n",
       "8213       Clear      36  \n",
       "8214       Clear      36  \n",
       "\n",
       "[10 rows x 23 columns]"
      ]
     },
     "execution_count": 53,
     "metadata": {},
     "output_type": "execute_result"
    }
   ],
   "source": [
    "df.tail(10)"
   ]
  },
  {
   "cell_type": "markdown",
   "metadata": {},
   "source": [
    "Then, we can use the array to index our dataframe. For example, here I want to see the first and the last 5 samples:"
   ]
  },
  {
   "cell_type": "code",
   "execution_count": 54,
   "metadata": {},
   "outputs": [
    {
     "data": {
      "text/html": [
       "<div>\n",
       "<style scoped>\n",
       "    .dataframe tbody tr th:only-of-type {\n",
       "        vertical-align: middle;\n",
       "    }\n",
       "\n",
       "    .dataframe tbody tr th {\n",
       "        vertical-align: top;\n",
       "    }\n",
       "\n",
       "    .dataframe thead th {\n",
       "        text-align: right;\n",
       "    }\n",
       "</style>\n",
       "<table border=\"1\" class=\"dataframe\">\n",
       "  <thead>\n",
       "    <tr style=\"text-align: right;\">\n",
       "      <th></th>\n",
       "      <th>Row Labels</th>\n",
       "      <th>Hour</th>\n",
       "      <th>Date-Hour</th>\n",
       "      <th>Month</th>\n",
       "      <th>Year</th>\n",
       "      <th>Sum/Win</th>\n",
       "      <th>WeekNumber</th>\n",
       "      <th>Weeday</th>\n",
       "      <th>Prior Period Temp C</th>\n",
       "      <th>Avg Temp C</th>\n",
       "      <th>...</th>\n",
       "      <th>Dew C</th>\n",
       "      <th>Humidity</th>\n",
       "      <th>Visibility (km)</th>\n",
       "      <th>Wind Dir</th>\n",
       "      <th>Wind Speed (km/h)</th>\n",
       "      <th>Gust Speed (km/h)</th>\n",
       "      <th>Precip (mm)</th>\n",
       "      <th>Events</th>\n",
       "      <th>Conditions</th>\n",
       "      <th>Max kW</th>\n",
       "    </tr>\n",
       "  </thead>\n",
       "  <tbody>\n",
       "    <tr>\n",
       "      <th>0</th>\n",
       "      <td>1/5/2014</td>\n",
       "      <td>0</td>\n",
       "      <td>5/1/2014-0</td>\n",
       "      <td>5</td>\n",
       "      <td>2014</td>\n",
       "      <td>1</td>\n",
       "      <td>18</td>\n",
       "      <td>4</td>\n",
       "      <td>6</td>\n",
       "      <td>6</td>\n",
       "      <td>...</td>\n",
       "      <td>6</td>\n",
       "      <td>97.0</td>\n",
       "      <td>16.1</td>\n",
       "      <td>West</td>\n",
       "      <td>14.8</td>\n",
       "      <td>NaN</td>\n",
       "      <td>NaN</td>\n",
       "      <td>NaN</td>\n",
       "      <td>Overcast</td>\n",
       "      <td>35</td>\n",
       "    </tr>\n",
       "    <tr>\n",
       "      <th>1</th>\n",
       "      <td>1/5/2014</td>\n",
       "      <td>1</td>\n",
       "      <td>5/1/2014-1</td>\n",
       "      <td>5</td>\n",
       "      <td>2014</td>\n",
       "      <td>1</td>\n",
       "      <td>18</td>\n",
       "      <td>4</td>\n",
       "      <td>6</td>\n",
       "      <td>6</td>\n",
       "      <td>...</td>\n",
       "      <td>6</td>\n",
       "      <td>100.0</td>\n",
       "      <td>16.1</td>\n",
       "      <td>WSW</td>\n",
       "      <td>14.8</td>\n",
       "      <td>NaN</td>\n",
       "      <td>NaN</td>\n",
       "      <td>NaN</td>\n",
       "      <td>Overcast</td>\n",
       "      <td>35</td>\n",
       "    </tr>\n",
       "    <tr>\n",
       "      <th>2</th>\n",
       "      <td>1/5/2014</td>\n",
       "      <td>2</td>\n",
       "      <td>5/1/2014-2</td>\n",
       "      <td>5</td>\n",
       "      <td>2014</td>\n",
       "      <td>1</td>\n",
       "      <td>18</td>\n",
       "      <td>4</td>\n",
       "      <td>6</td>\n",
       "      <td>6</td>\n",
       "      <td>...</td>\n",
       "      <td>6</td>\n",
       "      <td>98.0</td>\n",
       "      <td>16.1</td>\n",
       "      <td>WSW</td>\n",
       "      <td>13</td>\n",
       "      <td>NaN</td>\n",
       "      <td>NaN</td>\n",
       "      <td>NaN</td>\n",
       "      <td>Overcast</td>\n",
       "      <td>35</td>\n",
       "    </tr>\n",
       "    <tr>\n",
       "      <th>3</th>\n",
       "      <td>1/5/2014</td>\n",
       "      <td>3</td>\n",
       "      <td>5/1/2014-3</td>\n",
       "      <td>5</td>\n",
       "      <td>2014</td>\n",
       "      <td>1</td>\n",
       "      <td>18</td>\n",
       "      <td>4</td>\n",
       "      <td>7</td>\n",
       "      <td>6</td>\n",
       "      <td>...</td>\n",
       "      <td>6</td>\n",
       "      <td>100.0</td>\n",
       "      <td>16.1</td>\n",
       "      <td>WSW</td>\n",
       "      <td>14.8</td>\n",
       "      <td>25.9</td>\n",
       "      <td>NaN</td>\n",
       "      <td>NaN</td>\n",
       "      <td>Light Drizzle</td>\n",
       "      <td>36</td>\n",
       "    </tr>\n",
       "    <tr>\n",
       "      <th>4</th>\n",
       "      <td>1/5/2014</td>\n",
       "      <td>4</td>\n",
       "      <td>5/1/2014-4</td>\n",
       "      <td>5</td>\n",
       "      <td>2014</td>\n",
       "      <td>1</td>\n",
       "      <td>18</td>\n",
       "      <td>4</td>\n",
       "      <td>6</td>\n",
       "      <td>6</td>\n",
       "      <td>...</td>\n",
       "      <td>6</td>\n",
       "      <td>100.0</td>\n",
       "      <td>16.1</td>\n",
       "      <td>West</td>\n",
       "      <td>14.8</td>\n",
       "      <td>NaN</td>\n",
       "      <td>NaN</td>\n",
       "      <td>NaN</td>\n",
       "      <td>Overcast</td>\n",
       "      <td>63</td>\n",
       "    </tr>\n",
       "    <tr>\n",
       "      <th>8210</th>\n",
       "      <td>30/4/2015</td>\n",
       "      <td>19</td>\n",
       "      <td>4/30/2015-19</td>\n",
       "      <td>4</td>\n",
       "      <td>2015</td>\n",
       "      <td>0</td>\n",
       "      <td>18</td>\n",
       "      <td>4</td>\n",
       "      <td>17</td>\n",
       "      <td>16</td>\n",
       "      <td>...</td>\n",
       "      <td>0</td>\n",
       "      <td>35.0</td>\n",
       "      <td>16.1</td>\n",
       "      <td>NNE</td>\n",
       "      <td>11.1</td>\n",
       "      <td>NaN</td>\n",
       "      <td>NaN</td>\n",
       "      <td>NaN</td>\n",
       "      <td>Clear</td>\n",
       "      <td>292</td>\n",
       "    </tr>\n",
       "    <tr>\n",
       "      <th>8211</th>\n",
       "      <td>30/4/2015</td>\n",
       "      <td>20</td>\n",
       "      <td>4/30/2015-20</td>\n",
       "      <td>4</td>\n",
       "      <td>2015</td>\n",
       "      <td>0</td>\n",
       "      <td>18</td>\n",
       "      <td>4</td>\n",
       "      <td>14</td>\n",
       "      <td>14</td>\n",
       "      <td>...</td>\n",
       "      <td>1</td>\n",
       "      <td>42.0</td>\n",
       "      <td>16.1</td>\n",
       "      <td>NE</td>\n",
       "      <td>5.6</td>\n",
       "      <td>NaN</td>\n",
       "      <td>NaN</td>\n",
       "      <td>NaN</td>\n",
       "      <td>Clear</td>\n",
       "      <td>289</td>\n",
       "    </tr>\n",
       "    <tr>\n",
       "      <th>8212</th>\n",
       "      <td>30/4/2015</td>\n",
       "      <td>21</td>\n",
       "      <td>4/30/2015-21</td>\n",
       "      <td>4</td>\n",
       "      <td>2015</td>\n",
       "      <td>0</td>\n",
       "      <td>18</td>\n",
       "      <td>4</td>\n",
       "      <td>12</td>\n",
       "      <td>12</td>\n",
       "      <td>...</td>\n",
       "      <td>1</td>\n",
       "      <td>47.0</td>\n",
       "      <td>16.1</td>\n",
       "      <td>ENE</td>\n",
       "      <td>9.3</td>\n",
       "      <td>NaN</td>\n",
       "      <td>NaN</td>\n",
       "      <td>NaN</td>\n",
       "      <td>Clear</td>\n",
       "      <td>97</td>\n",
       "    </tr>\n",
       "    <tr>\n",
       "      <th>8213</th>\n",
       "      <td>30/4/2015</td>\n",
       "      <td>22</td>\n",
       "      <td>4/30/2015-22</td>\n",
       "      <td>4</td>\n",
       "      <td>2015</td>\n",
       "      <td>0</td>\n",
       "      <td>18</td>\n",
       "      <td>4</td>\n",
       "      <td>12</td>\n",
       "      <td>11</td>\n",
       "      <td>...</td>\n",
       "      <td>1</td>\n",
       "      <td>49.0</td>\n",
       "      <td>16.1</td>\n",
       "      <td>East</td>\n",
       "      <td>7.4</td>\n",
       "      <td>NaN</td>\n",
       "      <td>NaN</td>\n",
       "      <td>NaN</td>\n",
       "      <td>Clear</td>\n",
       "      <td>36</td>\n",
       "    </tr>\n",
       "    <tr>\n",
       "      <th>8214</th>\n",
       "      <td>30/4/2015</td>\n",
       "      <td>23</td>\n",
       "      <td>4/30/2015-23</td>\n",
       "      <td>4</td>\n",
       "      <td>2015</td>\n",
       "      <td>0</td>\n",
       "      <td>18</td>\n",
       "      <td>4</td>\n",
       "      <td>11</td>\n",
       "      <td>10</td>\n",
       "      <td>...</td>\n",
       "      <td>1</td>\n",
       "      <td>55.0</td>\n",
       "      <td>16.1</td>\n",
       "      <td>Calm</td>\n",
       "      <td>Calm</td>\n",
       "      <td>NaN</td>\n",
       "      <td>NaN</td>\n",
       "      <td>NaN</td>\n",
       "      <td>Clear</td>\n",
       "      <td>36</td>\n",
       "    </tr>\n",
       "  </tbody>\n",
       "</table>\n",
       "<p>10 rows × 23 columns</p>\n",
       "</div>"
      ],
      "text/plain": [
       "     Row Labels  Hour     Date-Hour  Month  Year  Sum/Win  WeekNumber  Weeday  \\\n",
       "0      1/5/2014     0    5/1/2014-0      5  2014        1          18       4   \n",
       "1      1/5/2014     1    5/1/2014-1      5  2014        1          18       4   \n",
       "2      1/5/2014     2    5/1/2014-2      5  2014        1          18       4   \n",
       "3      1/5/2014     3    5/1/2014-3      5  2014        1          18       4   \n",
       "4      1/5/2014     4    5/1/2014-4      5  2014        1          18       4   \n",
       "8210  30/4/2015    19  4/30/2015-19      4  2015        0          18       4   \n",
       "8211  30/4/2015    20  4/30/2015-20      4  2015        0          18       4   \n",
       "8212  30/4/2015    21  4/30/2015-21      4  2015        0          18       4   \n",
       "8213  30/4/2015    22  4/30/2015-22      4  2015        0          18       4   \n",
       "8214  30/4/2015    23  4/30/2015-23      4  2015        0          18       4   \n",
       "\n",
       "      Prior Period Temp C  Avg Temp C  ...  Dew C  Humidity  Visibility (km)  \\\n",
       "0                       6           6  ...      6      97.0             16.1   \n",
       "1                       6           6  ...      6     100.0             16.1   \n",
       "2                       6           6  ...      6      98.0             16.1   \n",
       "3                       7           6  ...      6     100.0             16.1   \n",
       "4                       6           6  ...      6     100.0             16.1   \n",
       "8210                   17          16  ...      0      35.0             16.1   \n",
       "8211                   14          14  ...      1      42.0             16.1   \n",
       "8212                   12          12  ...      1      47.0             16.1   \n",
       "8213                   12          11  ...      1      49.0             16.1   \n",
       "8214                   11          10  ...      1      55.0             16.1   \n",
       "\n",
       "      Wind Dir  Wind Speed (km/h)  Gust Speed (km/h) Precip (mm) Events  \\\n",
       "0         West               14.8                NaN         NaN    NaN   \n",
       "1          WSW               14.8                NaN         NaN    NaN   \n",
       "2          WSW                 13                NaN         NaN    NaN   \n",
       "3          WSW               14.8               25.9         NaN    NaN   \n",
       "4         West               14.8                NaN         NaN    NaN   \n",
       "8210       NNE               11.1                NaN         NaN    NaN   \n",
       "8211        NE                5.6                NaN         NaN    NaN   \n",
       "8212       ENE                9.3                NaN         NaN    NaN   \n",
       "8213      East                7.4                NaN         NaN    NaN   \n",
       "8214      Calm               Calm                NaN         NaN    NaN   \n",
       "\n",
       "         Conditions  Max kW  \n",
       "0          Overcast      35  \n",
       "1          Overcast      35  \n",
       "2          Overcast      35  \n",
       "3     Light Drizzle      36  \n",
       "4          Overcast      63  \n",
       "8210          Clear     292  \n",
       "8211          Clear     289  \n",
       "8212          Clear      97  \n",
       "8213          Clear      36  \n",
       "8214          Clear      36  \n",
       "\n",
       "[10 rows x 23 columns]"
      ]
     },
     "execution_count": 54,
     "metadata": {},
     "output_type": "execute_result"
    }
   ],
   "source": [
    "df.iloc[np.r_[0:5, -5:0]]"
   ]
  },
  {
   "cell_type": "code",
   "execution_count": 55,
   "metadata": {},
   "outputs": [],
   "source": [
    "dataset = df.drop(['Gust Speed (km/h)','Precip (mm)','Events'], axis=1)"
   ]
  },
  {
   "cell_type": "code",
   "execution_count": 56,
   "metadata": {},
   "outputs": [
    {
     "data": {
      "text/html": [
       "<div>\n",
       "<style scoped>\n",
       "    .dataframe tbody tr th:only-of-type {\n",
       "        vertical-align: middle;\n",
       "    }\n",
       "\n",
       "    .dataframe tbody tr th {\n",
       "        vertical-align: top;\n",
       "    }\n",
       "\n",
       "    .dataframe thead th {\n",
       "        text-align: right;\n",
       "    }\n",
       "</style>\n",
       "<table border=\"1\" class=\"dataframe\">\n",
       "  <thead>\n",
       "    <tr style=\"text-align: right;\">\n",
       "      <th></th>\n",
       "      <th>Row Labels</th>\n",
       "      <th>Hour</th>\n",
       "      <th>Date-Hour</th>\n",
       "      <th>Month</th>\n",
       "      <th>Year</th>\n",
       "      <th>Sum/Win</th>\n",
       "      <th>WeekNumber</th>\n",
       "      <th>Weeday</th>\n",
       "      <th>Prior Period Temp C</th>\n",
       "      <th>Avg Temp C</th>\n",
       "      <th>Winter HDD (51 Base)</th>\n",
       "      <th>Summer CDD (51 Base)</th>\n",
       "      <th>Max Temp C</th>\n",
       "      <th>Dew C</th>\n",
       "      <th>Humidity</th>\n",
       "      <th>Visibility (km)</th>\n",
       "      <th>Wind Dir</th>\n",
       "      <th>Wind Speed (km/h)</th>\n",
       "      <th>Conditions</th>\n",
       "      <th>Max kW</th>\n",
       "    </tr>\n",
       "  </thead>\n",
       "  <tbody>\n",
       "    <tr>\n",
       "      <th>0</th>\n",
       "      <td>1/5/2014</td>\n",
       "      <td>0</td>\n",
       "      <td>5/1/2014-0</td>\n",
       "      <td>5</td>\n",
       "      <td>2014</td>\n",
       "      <td>1</td>\n",
       "      <td>18</td>\n",
       "      <td>4</td>\n",
       "      <td>6</td>\n",
       "      <td>6</td>\n",
       "      <td>0.3</td>\n",
       "      <td>0.0</td>\n",
       "      <td>6</td>\n",
       "      <td>6</td>\n",
       "      <td>97.0</td>\n",
       "      <td>16.1</td>\n",
       "      <td>West</td>\n",
       "      <td>14.8</td>\n",
       "      <td>Overcast</td>\n",
       "      <td>35</td>\n",
       "    </tr>\n",
       "    <tr>\n",
       "      <th>1</th>\n",
       "      <td>1/5/2014</td>\n",
       "      <td>1</td>\n",
       "      <td>5/1/2014-1</td>\n",
       "      <td>5</td>\n",
       "      <td>2014</td>\n",
       "      <td>1</td>\n",
       "      <td>18</td>\n",
       "      <td>4</td>\n",
       "      <td>6</td>\n",
       "      <td>6</td>\n",
       "      <td>0.3</td>\n",
       "      <td>0.0</td>\n",
       "      <td>6</td>\n",
       "      <td>6</td>\n",
       "      <td>100.0</td>\n",
       "      <td>16.1</td>\n",
       "      <td>WSW</td>\n",
       "      <td>14.8</td>\n",
       "      <td>Overcast</td>\n",
       "      <td>35</td>\n",
       "    </tr>\n",
       "    <tr>\n",
       "      <th>2</th>\n",
       "      <td>1/5/2014</td>\n",
       "      <td>2</td>\n",
       "      <td>5/1/2014-2</td>\n",
       "      <td>5</td>\n",
       "      <td>2014</td>\n",
       "      <td>1</td>\n",
       "      <td>18</td>\n",
       "      <td>4</td>\n",
       "      <td>6</td>\n",
       "      <td>6</td>\n",
       "      <td>0.3</td>\n",
       "      <td>0.0</td>\n",
       "      <td>7</td>\n",
       "      <td>6</td>\n",
       "      <td>98.0</td>\n",
       "      <td>16.1</td>\n",
       "      <td>WSW</td>\n",
       "      <td>13</td>\n",
       "      <td>Overcast</td>\n",
       "      <td>35</td>\n",
       "    </tr>\n",
       "    <tr>\n",
       "      <th>3</th>\n",
       "      <td>1/5/2014</td>\n",
       "      <td>3</td>\n",
       "      <td>5/1/2014-3</td>\n",
       "      <td>5</td>\n",
       "      <td>2014</td>\n",
       "      <td>1</td>\n",
       "      <td>18</td>\n",
       "      <td>4</td>\n",
       "      <td>7</td>\n",
       "      <td>6</td>\n",
       "      <td>0.3</td>\n",
       "      <td>0.0</td>\n",
       "      <td>6</td>\n",
       "      <td>6</td>\n",
       "      <td>100.0</td>\n",
       "      <td>16.1</td>\n",
       "      <td>WSW</td>\n",
       "      <td>14.8</td>\n",
       "      <td>Light Drizzle</td>\n",
       "      <td>36</td>\n",
       "    </tr>\n",
       "    <tr>\n",
       "      <th>4</th>\n",
       "      <td>1/5/2014</td>\n",
       "      <td>4</td>\n",
       "      <td>5/1/2014-4</td>\n",
       "      <td>5</td>\n",
       "      <td>2014</td>\n",
       "      <td>1</td>\n",
       "      <td>18</td>\n",
       "      <td>4</td>\n",
       "      <td>6</td>\n",
       "      <td>6</td>\n",
       "      <td>0.3</td>\n",
       "      <td>0.0</td>\n",
       "      <td>6</td>\n",
       "      <td>6</td>\n",
       "      <td>100.0</td>\n",
       "      <td>16.1</td>\n",
       "      <td>West</td>\n",
       "      <td>14.8</td>\n",
       "      <td>Overcast</td>\n",
       "      <td>63</td>\n",
       "    </tr>\n",
       "  </tbody>\n",
       "</table>\n",
       "</div>"
      ],
      "text/plain": [
       "  Row Labels  Hour   Date-Hour  Month  Year  Sum/Win  WeekNumber  Weeday  \\\n",
       "0   1/5/2014     0  5/1/2014-0      5  2014        1          18       4   \n",
       "1   1/5/2014     1  5/1/2014-1      5  2014        1          18       4   \n",
       "2   1/5/2014     2  5/1/2014-2      5  2014        1          18       4   \n",
       "3   1/5/2014     3  5/1/2014-3      5  2014        1          18       4   \n",
       "4   1/5/2014     4  5/1/2014-4      5  2014        1          18       4   \n",
       "\n",
       "   Prior Period Temp C  Avg Temp C  Winter HDD (51 Base)  \\\n",
       "0                    6           6                   0.3   \n",
       "1                    6           6                   0.3   \n",
       "2                    6           6                   0.3   \n",
       "3                    7           6                   0.3   \n",
       "4                    6           6                   0.3   \n",
       "\n",
       "   Summer CDD (51 Base)  Max Temp C  Dew C  Humidity  Visibility (km)  \\\n",
       "0                   0.0           6      6      97.0             16.1   \n",
       "1                   0.0           6      6     100.0             16.1   \n",
       "2                   0.0           7      6      98.0             16.1   \n",
       "3                   0.0           6      6     100.0             16.1   \n",
       "4                   0.0           6      6     100.0             16.1   \n",
       "\n",
       "  Wind Dir Wind Speed (km/h)     Conditions  Max kW  \n",
       "0     West              14.8       Overcast      35  \n",
       "1      WSW              14.8       Overcast      35  \n",
       "2      WSW                13       Overcast      35  \n",
       "3      WSW              14.8  Light Drizzle      36  \n",
       "4     West              14.8       Overcast      63  "
      ]
     },
     "execution_count": 56,
     "metadata": {},
     "output_type": "execute_result"
    }
   ],
   "source": [
    "dataset.head()"
   ]
  },
  {
   "cell_type": "code",
   "execution_count": null,
   "metadata": {},
   "outputs": [],
   "source": [
    "dataset.hist(figsize=(16,12))\n",
    "plt.show()"
   ]
  },
  {
   "cell_type": "code",
   "execution_count": 57,
   "metadata": {},
   "outputs": [
    {
     "name": "stdout",
     "output_type": "stream",
     "text": [
      "<class 'pandas.core.frame.DataFrame'>\n",
      "RangeIndex: 8215 entries, 0 to 8214\n",
      "Data columns (total 20 columns):\n",
      " #   Column                Non-Null Count  Dtype  \n",
      "---  ------                --------------  -----  \n",
      " 0   Row Labels            8215 non-null   object \n",
      " 1   Hour                  8215 non-null   int64  \n",
      " 2   Date-Hour             8215 non-null   object \n",
      " 3   Month                 8215 non-null   int64  \n",
      " 4   Year                  8215 non-null   int64  \n",
      " 5   Sum/Win               8215 non-null   int64  \n",
      " 6   WeekNumber            8215 non-null   int64  \n",
      " 7   Weeday                8215 non-null   int64  \n",
      " 8   Prior Period Temp C   8215 non-null   int64  \n",
      " 9   Avg Temp C            8215 non-null   int64  \n",
      " 10  Winter HDD (51 Base)  8215 non-null   float64\n",
      " 11  Summer CDD (51 Base)  8215 non-null   float64\n",
      " 12  Max Temp C            8215 non-null   int64  \n",
      " 13  Dew C                 8215 non-null   int64  \n",
      " 14  Humidity              8215 non-null   float64\n",
      " 15  Visibility (km)       8215 non-null   float64\n",
      " 16  Wind Dir              8215 non-null   object \n",
      " 17  Wind Speed (km/h)     8215 non-null   object \n",
      " 18  Conditions            8215 non-null   object \n",
      " 19  Max kW                8215 non-null   int64  \n",
      "dtypes: float64(4), int64(11), object(5)\n",
      "memory usage: 1.3+ MB\n"
     ]
    }
   ],
   "source": [
    "dataset.info()"
   ]
  },
  {
   "cell_type": "code",
   "execution_count": null,
   "metadata": {},
   "outputs": [],
   "source": [
    "power_info.date = dataset.to_datetime(dataset.date)\n",
    "power_info.set_index(['date'], inplace=True)       \n",
    "power_info.head()"
   ]
  },
  {
   "cell_type": "code",
   "execution_count": null,
   "metadata": {},
   "outputs": [],
   "source": [
    "def clear_wind(obj):\n",
    "    if isinstance(obj, str):\n",
    "        if obj == 'No wind':\n",
    "            obj = 0\n",
    "        else:\n",
    "            obj = obj.replace(' km/h', '')\n",
    "    return obj\n",
    "def trans_from_objects(weather):\n",
    "    df.drop(['date', 'visibility'], axis =1, inplace=True)\n",
    "    df  = df.apply(lambda x: x.replace(' mbar', '') \n",
    "                                    if isinstance(x, str) else x).astype(float)\n",
    "    \n",
    "    humidity = df.humidity.apply(lambda x: x.replace('%', '') \n",
    "                                    if isinstance(x, str) else x).astype(float)\n",
    "    temp = df.temp.apply(lambda x: x.replace('°C', '') \n",
    "                                    if isinstance(x, str) else x).astype(float)\n",
    "    wind = df.wind.apply(clear_wind).astype(float)\n",
    "    \n",
    "    return weather\n",
    "\n",
    "#transfer dataframe from objects dtype to numbers\n",
    "weather_tran = trans_from_objects(weather)\n",
    "weather_tran.head()"
   ]
  },
  {
   "cell_type": "code",
   "execution_count": null,
   "metadata": {},
   "outputs": [],
   "source": [
    "#Form the date column \n",
    "def create_date(weather):    \n",
    "    weather['date'] = weather.apply(lambda row:\n",
    "                                    f'{row.year}-{row.month}-{row.day} {row.clock}', axis=1)\n",
    "    weather.date = pd.to_datetime(weather.date)\n",
    "    return weather.drop(['time', 'year', 'month', 'day'], axis = 1)\n",
    "\n",
    "weather_pretty = create_date(weather_tran)\n",
    "weather_pretty.head()"
   ]
  },
  {
   "cell_type": "code",
   "execution_count": null,
   "metadata": {},
   "outputs": [],
   "source": [
    "#to take the average of each day, so we have daily weather. Because we have the daily cum_power not hourly\n",
    "import datetime \n",
    "def take_average_weather(weather):\n",
    "    average_weather = pd.DataFrame(columns = ['temp', 'weather', 'wind', 'humidity', 'barometer',\n",
    "                                              'date'])\n",
    "\n",
    "    temp, wind, humidity, barometer, counter= [0]*5\n",
    "    for i in range(len(weather)):\n",
    "        if (weather.loc[i, 'date'].time() ==datetime.time(0, 20)) and (i!=0):\n",
    "            average_weather = average_weather.append({\n",
    "                'temp':temp/counter,\n",
    "                'wind':wind/counter,\n",
    "                'humidity':humidity/counter,\n",
    "                'barometer':barometer/counter,\n",
    "                'date':pd.to_datetime(weather.loc[i-1, 'date'].date()),\n",
    "                'weather':weath\n",
    "            }, ignore_index=True)\n",
    "            temp, wind, humidity, barometer, counter= [0]*5\n",
    "            \n",
    "        #Here we'll take the weather status in the most powerful hour (15:20), because you can't take averge \n",
    "                                                                                                    #here.\n",
    "        if (weather.loc[i, 'date'].time()==datetime.time(15,20)):\n",
    "            weath = weather.loc[i, 'weather']\n",
    "        counter += 1\n",
    "        temp += weather.loc[i, 'temp']\n",
    "        wind += weather.loc[i, 'wind']\n",
    "        humidity += weather.loc[i, 'humidity']\n",
    "        barometer += weather.loc[i, 'barometer']\n",
    "        \n",
    "    return average_weather\n",
    "average_weather = take_average_weather(weather_pretty)"
   ]
  },
  {
   "cell_type": "code",
   "execution_count": null,
   "metadata": {},
   "outputs": [],
   "source": [
    "import seaborn as sns\n",
    "weather_counts = final_dataset.weather.value_counts()\n",
    "plt.figure(figsize=(16,5))\n",
    "sns.barplot(weather_counts.index, weather_counts.values, alpha=0.8)\n",
    "plt.xticks(rotation=90)\n",
    "plt.title('Weather Status')\n",
    "plt.xlabel('Status')\n",
    "plt.ylabel('Number Of Repetition')\n",
    "plt.show() "
   ]
  },
  {
   "cell_type": "code",
   "execution_count": null,
   "metadata": {},
   "outputs": [],
   "source": [
    "final_dataset = final_dataset.reset_index()\n",
    "\n",
    "\n",
    "for i in range(len(final_dataset)):\n",
    "    weather_list = final_dataset.loc[i, 'weather'].split('.')\n",
    "    if len(weather_list) > 2:\n",
    "        final_dataset.loc[i,'weather'] = weather_list[1].strip()\n",
    "    elif len(weather_list) ==2:\n",
    "        final_dataset.loc[i, 'weather'] = weather_list[0].strip()\n",
    "final_dataset.head()\n",
    "\n",
    "#get the index back to \"date\"\n",
    "final_dataset.set_index('date', inplace=True)"
   ]
  },
  {
   "cell_type": "code",
   "execution_count": null,
   "metadata": {},
   "outputs": [],
   "source": [
    "from matplotlib import pyplot as plt\n",
    "final_dataset.weather.value_counts()\n",
    "weather_counts = final_dataset.weather.value_counts()\n",
    "\n",
    "plt.figure(figsize=(12,6))\n",
    "sns.barplot(weather_counts.index, weather_counts.values, alpha=0.8)\n",
    "plt.xticks(rotation=33)\n",
    "plt.title('Weather Status')\n",
    "plt.xlabel('Status')\n",
    "plt.ylabel('Number Of Repetition')\n",
    "plt.show()"
   ]
  },
  {
   "cell_type": "code",
   "execution_count": null,
   "metadata": {},
   "outputs": [],
   "source": [
    "final_dataset.hist(figsize=(16,12))\n",
    "plt.show()"
   ]
  },
  {
   "cell_type": "code",
   "execution_count": null,
   "metadata": {},
   "outputs": [],
   "source": [
    "def reduce_categories(weather):\n",
    "    #Delete all first parts of two-part status, and highligh only the necessary categories. \n",
    "    #why the first part? Because we don't care about the raining or snowing weather, we care more about \n",
    "    #status of clouds\n",
    "    for i in range(len(weather)):\n",
    "        weather_list = weather.loc[i, 'weather'].split('.')\n",
    "        if len(weather_list) > 2:\n",
    "            weather.loc[i,'weather'] = weather_list[1].strip()\n",
    "        elif len(weather_list) ==2:\n",
    "            weather.loc[i, 'weather'] = weather_list[0].strip()\n",
    "\n",
    "    weather.weather = weather.weather.map({\n",
    "        'Ice fog':'Fog',\n",
    "        'Haze':'Fog',\n",
    "        'Fog':'Fog',\n",
    "        'Clear':'Sunny',\n",
    "        'Sunny':'Sunny',\n",
    "        'Broken clouds':'Scattered clouds',\n",
    "        'Scattered clouds':'Scattered clouds',\n",
    "        'Overcast':'Cloudy',\n",
    "        'More clouds than sun':'Cloudy',\n",
    "        'More sun than clouds':'Sunny',\n",
    "        'Low clouds':'Cloudy',\n",
    "        'Mostly cloudy':'Cloudy',\n",
    "        'Cloudy':'Cloudy',\n",
    "        'Passing clouds':'Passing clouds',\n",
    "        'Partly sunny':'Partly sunny',\n",
    "        'Mostly sunny':'Sunny'\n",
    "    },na_action='ignore')\n",
    "    return weather\n",
    "final_dataset = reduce_categories(final_dataset)\n",
    "\n",
    "#get the index back to \"date\"\n",
    "final_dataset.set_index('date', inplace=True)"
   ]
  },
  {
   "cell_type": "code",
   "execution_count": null,
   "metadata": {},
   "outputs": [],
   "source": [
    "from matplotlib import pyplot as plt\n",
    "final_dataset.weather.value_counts()\n",
    "weather_counts = final_dataset.weather.value_counts()\n",
    "\n",
    "plt.figure(figsize=(12,6))\n",
    "sns.barplot(weather_counts.index, weather_counts.values, alpha=0.8)\n",
    "plt.xticks(rotation=33)\n",
    "plt.title('Weather Status')\n",
    "plt.xlabel('Status')\n",
    "plt.ylabel('Number Of Repetition')\n",
    "plt.show()\n"
   ]
  },
  {
   "cell_type": "code",
   "execution_count": null,
   "metadata": {},
   "outputs": [],
   "source": [
    "final_dataset.hist(figsize=(16,12))\n",
    "plt.show()"
   ]
  },
  {
   "cell_type": "code",
   "execution_count": null,
   "metadata": {},
   "outputs": [],
   "source": [
    "from sklearn.model_selection import train_test_split \n",
    "train_set, test_set = train_test_split(final_dataset, test_size=0.3, \n",
    "                                                   random_state=42) \n",
    "df = train_set.copy() \n",
    "df.describe() "
   ]
  },
  {
   "cell_type": "code",
   "execution_count": null,
   "metadata": {},
   "outputs": [],
   "source": [
    "df.corr() "
   ]
  },
  {
   "cell_type": "code",
   "execution_count": null,
   "metadata": {},
   "outputs": [],
   "source": [
    "from pandas.plotting import scatter_matrix \n",
    "scatter_matrix(df, figsize=(16,18), alpha=0.4) \n",
    "plt.show()"
   ]
  },
  {
   "cell_type": "code",
   "execution_count": null,
   "metadata": {},
   "outputs": [],
   "source": [
    "df.plot(kind='scatter', x= 'humidity',y='day_power', figsize=(9,7), alpha=0.4) \n",
    "plt.show()"
   ]
  },
  {
   "cell_type": "code",
   "execution_count": null,
   "metadata": {},
   "outputs": [],
   "source": [
    "#To delete data anomalies\n",
    "import random\n",
    "df.day_power = df.day_power.apply(lambda x: x+random.randint(0,50)/100 if x==0 else x)\n",
    "for i in range(1,34):\n",
    "    df.day_power = df.day_power.apply(lambda x: x+random.randint(-50,50)/100 if x==i else x)\n",
    "df.plot(kind='scatter', x= 'humidity',y='day_power', figsize=(9,7), alpha=0.4) \n",
    "plt.show()"
   ]
  },
  {
   "cell_type": "code",
   "execution_count": null,
   "metadata": {},
   "outputs": [],
   "source": [
    "from sklearn.pipeline import Pipeline \n",
    "from sklearn.compose import ColumnTransformer \n",
    "from sklearn.preprocessing import OneHotEncoder \n",
    "from sklearn.impute import SimpleImputer \n",
    "from sklearn.preprocessing import MinMaxScaler \n",
    "\n",
    "\n",
    "num_pipeline = Pipeline([ \n",
    "    ('imputer', SimpleImputer(strategy='median')), \n",
    "    ('scaler', MinMaxScaler()) \n",
    "]) \n",
    "\n",
    "cat_pipeline = Pipeline([ \n",
    "    ('encoder', OneHotEncoder()) \n",
    "]) \n",
    "\n",
    "full_pipeline = ColumnTransformer([ \n",
    "    ('num_pipeline', num_pipeline, num_attr),\n",
    "    ('cat_pipeline', cat_pipeline, cat_attr) \n",
    "]) "
   ]
  },
  {
   "cell_type": "code",
   "execution_count": null,
   "metadata": {},
   "outputs": [],
   "source": [
    "prepared_features = full_pipeline.fit_transform(features)"
   ]
  },
  {
   "cell_type": "code",
   "execution_count": null,
   "metadata": {},
   "outputs": [],
   "source": [
    "\n",
    "from sklearn.linear_model import LinearRegression \n",
    "from sklearn.metrics import mean_squared_error as mse \n",
    "from sklearn.model_selection import cross_val_score  \n",
    "\n",
    "lin_reg = LinearRegression() \n",
    "lin_reg.fit(prepared_features, labels) \n",
    "y_predicted = lin_reg.predict(prepared_features) \n",
    "scores = cross_val_score(lin_reg, prepared_features, labels, \n",
    "                         scoring='neg_mean_squared_error', cv=10) \n",
    "scores=np.sqrt(-scores) \n",
    "display(scores.mean()) \n",
    "scores.std() "
   ]
  },
  {
   "cell_type": "code",
   "execution_count": null,
   "metadata": {},
   "outputs": [],
   "source": [
    "scores = cross_val_score(lin_reg, prepared_test, test_labels, \n",
    "                         scoring='neg_mean_squared_error', cv=10) \n",
    "scores=np.sqrt(-scores) \n",
    "display(scores.mean()) \n",
    "scores.std() "
   ]
  },
  {
   "cell_type": "code",
   "execution_count": null,
   "metadata": {},
   "outputs": [],
   "source": [
    "avg=[]\n",
    "labels_avg = []\n",
    "for i in range(len(test_labels)):\n",
    "    avg.append(test_labels[i])\n",
    "    if i % 40 == 0:\n",
    "        labels_avg.append(np.array(avg).mean())\n",
    "        avg.clear()\n",
    "avg=[]\n",
    "pred_avg = []\n",
    "for i in range(len(test_predicted)):\n",
    "    avg.append(test_predicted[i])\n",
    "    if i % 40 == 0:\n",
    "        pred_avg.append(np.array(avg).mean())\n",
    "        avg.clear()"
   ]
  },
  {
   "cell_type": "code",
   "execution_count": null,
   "metadata": {},
   "outputs": [],
   "source": [
    "plt.figure(figsize=(16,6))\n",
    "plt.plot(range(len(labels_avg)), labels_avg)\n",
    "plt.plot(range(len(pred_avg)), pred_avg, 'r')\n",
    "plt.title('Comparison between average predicted values and real ones in the test set')\n",
    "plt.ylabel('Day Power')\n",
    "plt.xlabel('Average Of Test Samples')\n",
    "plt.legend(['Real Power', 'Predicted Power'])\n",
    "plt.show()"
   ]
  }
 ],
 "metadata": {
  "kernelspec": {
   "display_name": "Python 3",
   "language": "python",
   "name": "python3"
  },
  "language_info": {
   "codemirror_mode": {
    "name": "ipython",
    "version": 3
   },
   "file_extension": ".py",
   "mimetype": "text/x-python",
   "name": "python",
   "nbconvert_exporter": "python",
   "pygments_lexer": "ipython3",
   "version": "3.8.3"
  }
 },
 "nbformat": 4,
 "nbformat_minor": 4
}
